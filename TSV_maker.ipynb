{
 "cells": [
  {
   "cell_type": "code",
   "execution_count": 1,
   "id": "5ad9607b-4963-4a09-9b50-987bccff3ef3",
   "metadata": {},
   "outputs": [],
   "source": [
    "import os"
   ]
  },
  {
   "cell_type": "code",
   "execution_count": 2,
   "id": "06efdde9-e74f-403f-a290-342972503421",
   "metadata": {},
   "outputs": [],
   "source": [
    "folder_path= \"/gstore/project/crc_recursion_2/NGS5425/Quantseq/\""
   ]
  },
  {
   "cell_type": "code",
   "execution_count": 3,
   "id": "63bc27a7-bcab-4a4b-8a5d-585b2fd49e08",
   "metadata": {},
   "outputs": [],
   "source": [
    "file_names=[]\n",
    "file_paths=[]"
   ]
  },
  {
   "cell_type": "code",
   "execution_count": 4,
   "id": "a60729d8-64fe-441e-873a-276f0a0a8861",
   "metadata": {},
   "outputs": [],
   "source": [
    "for root,dirs, files in os.walk(folder_path):\n",
    "    for file in files:\n",
    "        file_path = os.path.join(root,file)\n",
    "        file_names.append(file)\n",
    "        file_paths.append(file_path)"
   ]
  },
  {
   "cell_type": "code",
   "execution_count": 5,
   "id": "3d4780a1-a39f-4e59-b6dc-ce77e15cd7dd",
   "metadata": {},
   "outputs": [],
   "source": [
    "file_names = [f.split(\"_\")[0] for f in file_names]"
   ]
  },
  {
   "cell_type": "code",
   "execution_count": 6,
   "id": "2c82e0cb-bf8e-407c-8400-8ae801230295",
   "metadata": {},
   "outputs": [
    {
     "data": {
      "text/plain": [
       "196"
      ]
     },
     "execution_count": 6,
     "metadata": {},
     "output_type": "execute_result"
    }
   ],
   "source": [
    "len(file_names)"
   ]
  },
  {
   "cell_type": "code",
   "execution_count": 7,
   "id": "8aeaf3a9-257f-4512-98a0-2f3b28f6e1eb",
   "metadata": {},
   "outputs": [],
   "source": [
    "with open(\"tsv_file.tsv\",\"w\") as file:\n",
    "    for file_name, file_path in zip(file_names, file_paths):\n",
    "        file.write(f\"{file_name}\\t{file_path}\\n\")"
   ]
  },
  {
   "cell_type": "code",
   "execution_count": null,
   "id": "0818253c-b9d3-4b37-8e50-76d051cd01e5",
   "metadata": {},
   "outputs": [],
   "source": []
  }
 ],
 "metadata": {
  "kernelspec": {
   "display_name": "Dev/GPy39",
   "language": "python",
   "name": "gpy39-dev"
  },
  "language_info": {
   "codemirror_mode": {
    "name": "ipython",
    "version": 3
   },
   "file_extension": ".py",
   "mimetype": "text/x-python",
   "name": "python",
   "nbconvert_exporter": "python",
   "pygments_lexer": "ipython3",
   "version": "3.9.15"
  },
  "widgets": {
   "application/vnd.jupyter.widget-state+json": {
    "state": {},
    "version_major": 2,
    "version_minor": 0
   }
  }
 },
 "nbformat": 4,
 "nbformat_minor": 5
}
