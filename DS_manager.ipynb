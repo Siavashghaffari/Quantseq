{
 "cells": [
  {
   "cell_type": "markdown",
   "metadata": {},
   "source": [
    "# This Notebook offers a general format of accessing a dataset, modify and then upload the updated dataset uisng the new version of pydsdb package"
   ]
  },
  {
   "cell_type": "markdown",
   "metadata": {},
   "source": [
    "## 1. A little bit of set-up"
   ]
  },
  {
   "cell_type": "markdown",
   "metadata": {},
   "source": [
    "#### Please insert your inputs"
   ]
  },
  {
   "cell_type": "code",
   "execution_count": 1,
   "metadata": {},
   "outputs": [],
   "source": [
    "DSID = 'DS000015647'    # the dataset Id based on what you received when you submitted your dataset\n",
    "Version = '1'   # the version of your dataset\n",
    "DEV = False    # A boolean based on whether your dataset saved to the dev server\n",
    "your_experiment = \"raw_qc\" # A string that is a key known for our desired experimnet that you wish to work on\n",
    "New_experiment = \"new\" # A string that is a key known for the updated data saved by that that name"
   ]
  },
  {
   "cell_type": "code",
   "execution_count": 24,
   "metadata": {},
   "outputs": [],
   "source": [
    "import pydsdb\n",
    "import scanpy as sc\n",
    "import multiassayexperiment as mae\n",
    "import singlecellexperiment as sce\n",
    "import pandas as pd\n",
    "from gpauth import GPAuth"
   ]
  },
  {
   "cell_type": "code",
   "execution_count": 3,
   "metadata": {},
   "outputs": [],
   "source": [
    "# to ignore SSL errors\n",
    "from os import environ\n",
    "environ[\"GP_DISABLE_SSL_VERIFICATION\"] = \"True\""
   ]
  },
  {
   "cell_type": "code",
   "execution_count": 4,
   "metadata": {},
   "outputs": [],
   "source": [
    "%load_ext autoreload\n",
    "%autoreload 2"
   ]
  },
  {
   "cell_type": "markdown",
   "metadata": {},
   "source": [
    "#### Check the versions to be compatible with what we want"
   ]
  },
  {
   "cell_type": "code",
   "execution_count": 5,
   "metadata": {},
   "outputs": [
    {
     "data": {
      "text/plain": [
       "'1.3.4'"
      ]
     },
     "execution_count": 5,
     "metadata": {},
     "output_type": "execute_result"
    }
   ],
   "source": [
    "pydsdb.__version__"
   ]
  },
  {
   "cell_type": "code",
   "execution_count": 6,
   "metadata": {},
   "outputs": [
    {
     "data": {
      "text/plain": [
       "'0.2.4'"
      ]
     },
     "execution_count": 6,
     "metadata": {},
     "output_type": "execute_result"
    }
   ],
   "source": [
    "mae.__version__"
   ]
  },
  {
   "cell_type": "markdown",
   "metadata": {},
   "source": [
    "## 2. Access and collect Dataset"
   ]
  },
  {
   "cell_type": "code",
   "execution_count": 28,
   "metadata": {},
   "outputs": [
    {
     "name": "stdout",
     "output_type": "stream",
     "text": [
      "\n",
      "08:52:11 -> Collating dataset: 'DS000015647' metadata.\n",
      "08:52:11 -> Retrieving all project: 'DS000015647@1' metadata.\n",
      "\n",
      "08:52:11 -> Reading: 'DS000015647'.\n",
      "\n",
      "08:52:11 -> Reading: 'DS000015647 -> Experiment: feature'.\n"
     ]
    },
    {
     "name": "stderr",
     "output_type": "stream",
     "text": [
      "/apps/user/gpy/envs/dev/GPy39/lib/python3.9/site-packages/multiassayexperiment/MultiAssayExperiment.py:127: FutureWarning: In a future version of pandas, a length 1 tuple will be returned when iterating over a groupby with a grouper equal to a list of length 1. Don't supply a list with a single grouper to avoid this warning.\n",
      "  for group, rows in agroups:\n"
     ]
    }
   ],
   "source": [
    "dm = pydsdb.get_dataset(DSID, version=Version, dev=DEV)"
   ]
  },
  {
   "cell_type": "markdown",
   "metadata": {},
   "source": [
    "#### The output is a MultiAssayExperiment object"
   ]
  },
  {
   "cell_type": "code",
   "execution_count": 29,
   "metadata": {},
   "outputs": [
    {
     "name": "stdout",
     "output_type": "stream",
     "text": [
      "Class MultiAssayExperiment with 1 experiments and 97 samples \n",
      "  experiments:  \n",
      "    feature: Class SummarizedExperiment with 58307 features and 97 samples \n",
      "  assays: ['counts'] \n",
      "  features: Index([], dtype='object') \n",
      "  sample data: Index([], dtype='object')\n"
     ]
    }
   ],
   "source": [
    "print(dm)"
   ]
  },
  {
   "cell_type": "markdown",
   "metadata": {},
   "source": [
    "#### Object.experiments is a dictionary of experimnets with SingleCellExperiment object"
   ]
  },
  {
   "cell_type": "code",
   "execution_count": 30,
   "metadata": {},
   "outputs": [
    {
     "name": "stdout",
     "output_type": "stream",
     "text": [
      "{'feature': <summarizedexperiment.SummarizedExperiment.SummarizedExperiment object at 0x2aab09b7a940>}\n"
     ]
    }
   ],
   "source": [
    "print(dm.experiments)"
   ]
  },
  {
   "cell_type": "markdown",
   "metadata": {},
   "source": [
    "#### You can see a list of all experiments to select from them"
   ]
  },
  {
   "cell_type": "code",
   "execution_count": 31,
   "metadata": {},
   "outputs": [
    {
     "data": {
      "text/plain": [
       "['feature']"
      ]
     },
     "execution_count": 31,
     "metadata": {},
     "output_type": "execute_result"
    }
   ],
   "source": [
    "list(dm.experiments.keys())"
   ]
  },
  {
   "cell_type": "code",
   "execution_count": 32,
   "metadata": {},
   "outputs": [
    {
     "data": {
      "text/plain": [
       "'feature'"
      ]
     },
     "execution_count": 32,
     "metadata": {},
     "output_type": "execute_result"
    }
   ],
   "source": [
    "list(dm.experiments.keys())[0]"
   ]
  },
  {
   "cell_type": "code",
   "execution_count": 33,
   "metadata": {},
   "outputs": [],
   "source": [
    "your_experiment = list(dm.experiments.keys())[0]"
   ]
  },
  {
   "cell_type": "code",
   "execution_count": 34,
   "metadata": {},
   "outputs": [
    {
     "name": "stdout",
     "output_type": "stream",
     "text": [
      "Class SummarizedExperiment with 58307 features and 97 samples \n",
      "  assays: ['counts'] \n",
      "  features: Index([], dtype='object') \n",
      "  sample data: Index([], dtype='object')\n"
     ]
    }
   ],
   "source": [
    "print(dm.experiments[your_experiment])"
   ]
  },
  {
   "cell_type": "markdown",
   "metadata": {},
   "source": [
    "#### Convert SingleCellExperiment object to AnnData object"
   ]
  },
  {
   "cell_type": "code",
   "execution_count": 35,
   "metadata": {},
   "outputs": [],
   "source": [
    "adata= dm.experiments[your_experiment].toAnnData()"
   ]
  },
  {
   "cell_type": "code",
   "execution_count": 36,
   "metadata": {},
   "outputs": [
    {
     "data": {
      "text/plain": [
       "AnnData object with n_obs × n_vars = 97 × 58307\n",
       "    uns: '.internal'\n",
       "    layers: 'counts'"
      ]
     },
     "execution_count": 36,
     "metadata": {},
     "output_type": "execute_result"
    }
   ],
   "source": [
    "adata"
   ]
  },
  {
   "cell_type": "code",
   "execution_count": 39,
   "metadata": {},
   "outputs": [
    {
     "data": {
      "text/plain": [
       "array([[ 25,   0,  24, ...,   0,   0,   0],\n",
       "       [ 27,   0,  26, ...,   0,   0,   0],\n",
       "       [ 49,   0,  60, ...,   0,   0,   0],\n",
       "       ...,\n",
       "       [ 23,   0,  54, ...,   0,   0,   0],\n",
       "       [ 13,   0,  29, ...,   0,   0,   0],\n",
       "       [194,   0, 151, ...,   0,   0,   0]], dtype=int32)"
      ]
     },
     "execution_count": 39,
     "metadata": {},
     "output_type": "execute_result"
    }
   ],
   "source": [
    "adata.layers[\"counts\"]"
   ]
  },
  {
   "cell_type": "code",
   "execution_count": 25,
   "metadata": {},
   "outputs": [],
   "source": [
    "adata.write(\"/gstore/project/crc_recursion_2/NGS5425/quantseq_pool.h5ad\")"
   ]
  },
  {
   "cell_type": "code",
   "execution_count": 26,
   "metadata": {},
   "outputs": [],
   "source": [
    "bdata = sc.read(\"/gstore/project/crc_recursion_2/NGS5425/quantseq_pool.h5ad\")"
   ]
  },
  {
   "cell_type": "code",
   "execution_count": 27,
   "metadata": {},
   "outputs": [
    {
     "data": {
      "text/plain": [
       "AnnData object with n_obs × n_vars = 97 × 58307\n",
       "    uns: '.internal'\n",
       "    layers: 'counts'"
      ]
     },
     "execution_count": 27,
     "metadata": {},
     "output_type": "execute_result"
    }
   ],
   "source": [
    "bdata"
   ]
  },
  {
   "cell_type": "code",
   "execution_count": 43,
   "metadata": {},
   "outputs": [
    {
     "data": {
      "text/html": [
       "<div>\n",
       "<style scoped>\n",
       "    .dataframe tbody tr th:only-of-type {\n",
       "        vertical-align: middle;\n",
       "    }\n",
       "\n",
       "    .dataframe tbody tr th {\n",
       "        vertical-align: top;\n",
       "    }\n",
       "\n",
       "    .dataframe thead th {\n",
       "        text-align: right;\n",
       "    }\n",
       "</style>\n",
       "<table border=\"1\" class=\"dataframe\">\n",
       "  <thead>\n",
       "    <tr style=\"text-align: right;\">\n",
       "      <th></th>\n",
       "    </tr>\n",
       "  </thead>\n",
       "  <tbody>\n",
       "    <tr>\n",
       "      <th>A01-CX1-NCE1-5uM</th>\n",
       "    </tr>\n",
       "    <tr>\n",
       "      <th>A02-DLD1-NCE1-5uM</th>\n",
       "    </tr>\n",
       "    <tr>\n",
       "      <th>A03-RCM1-NCE1-5uM</th>\n",
       "    </tr>\n",
       "    <tr>\n",
       "      <th>A04-SKCO1-NCE1-5uM</th>\n",
       "    </tr>\n",
       "    <tr>\n",
       "      <th>A05-SW837-NCE1-5uM</th>\n",
       "    </tr>\n",
       "    <tr>\n",
       "      <th>...</th>\n",
       "    </tr>\n",
       "    <tr>\n",
       "      <th>H09-RCM1-NCE3-1uM</th>\n",
       "    </tr>\n",
       "    <tr>\n",
       "      <th>H10-SKCO1-NCE3-1uM</th>\n",
       "    </tr>\n",
       "    <tr>\n",
       "      <th>H11-SW837-NCE3-1uM</th>\n",
       "    </tr>\n",
       "    <tr>\n",
       "      <th>H12-SW1417-NCE3-1uM</th>\n",
       "    </tr>\n",
       "    <tr>\n",
       "      <th>undetermined</th>\n",
       "    </tr>\n",
       "  </tbody>\n",
       "</table>\n",
       "<p>97 rows × 0 columns</p>\n",
       "</div>"
      ],
      "text/plain": [
       "Empty DataFrame\n",
       "Columns: []\n",
       "Index: [A01-CX1-NCE1-5uM, A02-DLD1-NCE1-5uM, A03-RCM1-NCE1-5uM, A04-SKCO1-NCE1-5uM, A05-SW837-NCE1-5uM, A06-SW1417-NCE1-5uM, A07-CX1-NCE1-5uM, A08-DLD1-NCE1-5uM, A09-RCM1-NCE1-5uM, A10-SKCO1-NCE1-5uM, A11-SW837-NCE1-5uM, A12-SW1417-NCE1-5uM, B01-CX1-NCE2-5uM, B02-DLD1-NCE2-5uM, B03-RCM1-NCE2-5uM, B04-SKCO1-NCE2-5uM, B05-SW837-NCE2-5uM, B06-SW1417-NCE2-5uM, B07-CX1-NCE2-5uM, B08-DLD1-NCE2-5uM, B09-RCM1-NCE2-5uM, B10-SKCO1-NCE2-5uM, B11-SW837-NCE2-5uM, B12-SW1417-NCE2-5uM, C01-CX1-NCE3-5uM, C02-DLD1-NCE3-5uM, C03-RCM1-NCE3-5uM, C04-SKCO1-NCE3-5uM, C05-SW837-NCE3-5uM, C06-SW1417-NCE3-5uM, C07-CX1-NCE3-5uM, C08-DLD1-NCE3-5uM, C09-RCM1-NCE3-5uM, C10-SKCO1-NCE3-5uM, C11-SW837-NCE3-5uM, C12-SW1417-NCE3-5uM, D01-CX1-NCE4-5uM, D02-DLD1-NCE4-5uM, D03-RCM1-NCE4-5uM, D04-SKCO1-NCE4-5uM, D05-SW837-NCE4-5uM, D06-SW1417-NCE4-5uM, D07-CX1-NCE4-5uM, D08-DLD1-NCE4-5uM, D09-RCM1-NCE4-5uM, D10-SKCO1-NCE4-5uM, D11-SW837-NCE4-5uM, D12-SW1417-NCE4-5uM, E01-CX1-NCE5-5uM, E02-DLD1-NCE5-5uM, E03-RCM1-NCE5-5uM, E04-SKCO1-NCE5-5uM, E05-SW837-NCE5-5uM, E06-SW1417-NCE5-5uM, E07-CX1-NCE5-5uM, E08-DLD1-NCE5-5uM, E09-RCM1-NCE5-5uM, E10-SKCO1-NCE5-5uM, E11-SW837-NCE5-5uM, E12-SW1417-NCE5-5uM, F01-CX1-MinusDOX, F02-DLD1-MinusDOX, F03-RCM1-MinusDOX, F04-SKCO1-MinusDOX, F05-SW837-MinusDOX, F06-SW1417-MinusDOX, F07-CX1-MinusDOX, F08-DLD1-MinusDOX, F09-RCM1-MinusDOX, F10-SKCO1-MinusDOX, F11-SW837-MinusDOX, F12-SW1417-MinusDOX, G01-CX1-PlusDOX, G02-DLD1-PlusDOX, G03-RCM1-PlusDOX, G04-SKCO1-PlusDOX, G05-SW837-PlusDOX, G06-SW1417-PlusDOX, G07-CX1-PlusDOX, G08-DLD1-PlusDOX, G09-RCM1-PlusDOX, G10-SKCO1-PlusDOX, G11-SW837-PlusDOX, G12-SW1417-PlusDOX, H01-CX1-NCE3-1uM, H02-DLD1-NCE3-1uM, H03-RCM1-NCE3-1uM, H04-SKCO1-NCE3-1uM, H05-SW837-NCE3-1uM, H06-SW1417-NCE3-1uM, H07-CX1-NCE3-1uM, H08-DLD1-NCE3-1uM, H09-RCM1-NCE3-1uM, H10-SKCO1-NCE3-1uM, H11-SW837-NCE3-1uM, H12-SW1417-NCE3-1uM, undetermined]\n",
       "\n",
       "[97 rows x 0 columns]"
      ]
     },
     "execution_count": 43,
     "metadata": {},
     "output_type": "execute_result"
    }
   ],
   "source": [
    "bdata.obs"
   ]
  },
  {
   "cell_type": "code",
   "execution_count": null,
   "metadata": {},
   "outputs": [],
   "source": []
  }
 ],
 "metadata": {
  "kernelspec": {
   "display_name": "gpydev39",
   "language": "python",
   "name": "gpydev39"
  },
  "language_info": {
   "codemirror_mode": {
    "name": "ipython",
    "version": 3
   },
   "file_extension": ".py",
   "mimetype": "text/x-python",
   "name": "python",
   "nbconvert_exporter": "python",
   "pygments_lexer": "ipython3",
   "version": "3.9.15"
  },
  "widgets": {
   "application/vnd.jupyter.widget-state+json": {
    "state": {},
    "version_major": 2,
    "version_minor": 0
   }
  }
 },
 "nbformat": 4,
 "nbformat_minor": 4
}
