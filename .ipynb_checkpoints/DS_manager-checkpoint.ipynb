{
 "cells": [
  {
   "cell_type": "markdown",
   "metadata": {},
   "source": [
    "# This Notebook offers a general format of accessing a dataset, modify and then upload the updated dataset uisng the new version of pydsdb package"
   ]
  },
  {
   "cell_type": "markdown",
   "metadata": {},
   "source": [
    "## 1. A little bit of set-up"
   ]
  },
  {
   "cell_type": "markdown",
   "metadata": {},
   "source": [
    "#### Please insert your inputs"
   ]
  },
  {
   "cell_type": "code",
   "execution_count": 1,
   "metadata": {},
   "outputs": [],
   "source": [
    "DSID = 'DS000015647'    # the dataset Id based on what you received when you submitted your dataset\n",
    "Version = '1'   # the version of your dataset\n",
    "DEV = False    # A boolean based on whether your dataset saved to the dev server\n",
    "your_experiment = \"raw_qc\" # A string that is a key known for our desired experimnet that you wish to work on\n",
    "New_experiment = \"new\" # A string that is a key known for the updated data saved by that that name"
   ]
  },
  {
   "cell_type": "code",
   "execution_count": 2,
   "metadata": {},
   "outputs": [],
   "source": [
    "import pydsdb\n",
    "import multiassayexperiment as mae\n",
    "import singlecellexperiment as sce\n",
    "import pandas as pd\n",
    "from gpauth import GPAuth"
   ]
  },
  {
   "cell_type": "code",
   "execution_count": 3,
   "metadata": {},
   "outputs": [],
   "source": [
    "# to ignore SSL errors\n",
    "from os import environ\n",
    "environ[\"GP_DISABLE_SSL_VERIFICATION\"] = \"True\""
   ]
  },
  {
   "cell_type": "code",
   "execution_count": 4,
   "metadata": {},
   "outputs": [],
   "source": [
    "%load_ext autoreload\n",
    "%autoreload 2"
   ]
  },
  {
   "cell_type": "markdown",
   "metadata": {},
   "source": [
    "#### Check the versions to be compatible with what we want"
   ]
  },
  {
   "cell_type": "code",
   "execution_count": 5,
   "metadata": {},
   "outputs": [
    {
     "data": {
      "text/plain": [
       "'1.3.4'"
      ]
     },
     "execution_count": 5,
     "metadata": {},
     "output_type": "execute_result"
    }
   ],
   "source": [
    "pydsdb.__version__"
   ]
  },
  {
   "cell_type": "code",
   "execution_count": 6,
   "metadata": {},
   "outputs": [
    {
     "data": {
      "text/plain": [
       "'0.2.4'"
      ]
     },
     "execution_count": 6,
     "metadata": {},
     "output_type": "execute_result"
    }
   ],
   "source": [
    "mae.__version__"
   ]
  },
  {
   "cell_type": "markdown",
   "metadata": {},
   "source": [
    "## 2. Access and collect Dataset"
   ]
  },
  {
   "cell_type": "code",
   "execution_count": 7,
   "metadata": {},
   "outputs": [
    {
     "name": "stdout",
     "output_type": "stream",
     "text": [
      "\n",
      "08:13:02 -> Collating dataset: 'DS000015647' metadata.\n",
      "08:13:02 -> Retrieving all project: 'DS000015647@1' metadata.\n",
      "\n",
      "08:13:03 -> Reading: 'DS000015647'.\n",
      "\n",
      "08:13:03 -> Reading: 'DS000015647 -> Experiment: feature'.\n"
     ]
    },
    {
     "name": "stderr",
     "output_type": "stream",
     "text": [
      "/apps/user/gpy/envs/dev/GPy39/lib/python3.9/site-packages/multiassayexperiment/MultiAssayExperiment.py:127: FutureWarning: In a future version of pandas, a length 1 tuple will be returned when iterating over a groupby with a grouper equal to a list of length 1. Don't supply a list with a single grouper to avoid this warning.\n",
      "  for group, rows in agroups:\n"
     ]
    }
   ],
   "source": [
    "dm = pydsdb.get_dataset(DSID, version=Version, dev=DEV)"
   ]
  },
  {
   "cell_type": "markdown",
   "metadata": {},
   "source": [
    "#### The output is a MultiAssayExperiment object"
   ]
  },
  {
   "cell_type": "code",
   "execution_count": 8,
   "metadata": {},
   "outputs": [
    {
     "name": "stdout",
     "output_type": "stream",
     "text": [
      "Class MultiAssayExperiment with 1 experiments and 97 samples \n",
      "  experiments:  \n",
      "    feature: Class SummarizedExperiment with 58307 features and 97 samples \n",
      "  assays: ['counts'] \n",
      "  features: Index([], dtype='object') \n",
      "  sample data: Index([], dtype='object')\n"
     ]
    }
   ],
   "source": [
    "print(dm)"
   ]
  },
  {
   "cell_type": "markdown",
   "metadata": {},
   "source": [
    "#### Object.experiments is a dictionary of experimnets with SingleCellExperiment object"
   ]
  },
  {
   "cell_type": "code",
   "execution_count": 9,
   "metadata": {},
   "outputs": [
    {
     "name": "stdout",
     "output_type": "stream",
     "text": [
      "{'feature': <summarizedexperiment.SummarizedExperiment.SummarizedExperiment object at 0x2aab025e9d90>}\n"
     ]
    }
   ],
   "source": [
    "print(dm.experiments)"
   ]
  },
  {
   "cell_type": "markdown",
   "metadata": {},
   "source": [
    "#### You can see a list of all experiments to select from them"
   ]
  },
  {
   "cell_type": "code",
   "execution_count": 10,
   "metadata": {},
   "outputs": [
    {
     "data": {
      "text/plain": [
       "['feature']"
      ]
     },
     "execution_count": 10,
     "metadata": {},
     "output_type": "execute_result"
    }
   ],
   "source": [
    "list(dm.experiments.keys())"
   ]
  },
  {
   "cell_type": "code",
   "execution_count": 11,
   "metadata": {},
   "outputs": [
    {
     "data": {
      "text/plain": [
       "'feature'"
      ]
     },
     "execution_count": 11,
     "metadata": {},
     "output_type": "execute_result"
    }
   ],
   "source": [
    "list(dm.experiments.keys())[0]"
   ]
  },
  {
   "cell_type": "markdown",
   "metadata": {},
   "source": [
    "#### Set your desired experimnet that you wish to work on"
   ]
  },
  {
   "cell_type": "code",
   "execution_count": 12,
   "metadata": {},
   "outputs": [],
   "source": [
    "#I = input(\"Please select a number from the list above\")"
   ]
  },
  {
   "cell_type": "code",
   "execution_count": 13,
   "metadata": {},
   "outputs": [],
   "source": [
    "your_experiment = list(dm.experiments.keys())[0]"
   ]
  },
  {
   "cell_type": "code",
   "execution_count": 14,
   "metadata": {},
   "outputs": [
    {
     "name": "stdout",
     "output_type": "stream",
     "text": [
      "Class SummarizedExperiment with 58307 features and 97 samples \n",
      "  assays: ['counts'] \n",
      "  features: Index([], dtype='object') \n",
      "  sample data: Index([], dtype='object')\n"
     ]
    }
   ],
   "source": [
    "print(dm.experiments[your_experiment])"
   ]
  },
  {
   "cell_type": "markdown",
   "metadata": {},
   "source": [
    "#### Convert SingleCellExperiment object to AnnData object"
   ]
  },
  {
   "cell_type": "code",
   "execution_count": 15,
   "metadata": {},
   "outputs": [
    {
     "ename": "TypeError",
     "evalue": "toAnnData() got an unexpected keyword argument 'alts'",
     "output_type": "error",
     "traceback": [
      "\u001b[0;31m---------------------------------------------------------------------------\u001b[0m",
      "\u001b[0;31mTypeError\u001b[0m                                 Traceback (most recent call last)",
      "Cell \u001b[0;32mIn[15], line 1\u001b[0m\n\u001b[0;32m----> 1\u001b[0m adata, adatas \u001b[38;5;241m=\u001b[39m \u001b[43mdm\u001b[49m\u001b[38;5;241;43m.\u001b[39;49m\u001b[43mexperiments\u001b[49m\u001b[43m[\u001b[49m\u001b[43myour_experiment\u001b[49m\u001b[43m]\u001b[49m\u001b[38;5;241;43m.\u001b[39;49m\u001b[43mtoAnnData\u001b[49m\u001b[43m(\u001b[49m\u001b[43malts\u001b[49m\u001b[38;5;241;43m=\u001b[39;49m\u001b[38;5;28;43;01mTrue\u001b[39;49;00m\u001b[43m)\u001b[49m\n",
      "\u001b[0;31mTypeError\u001b[0m: toAnnData() got an unexpected keyword argument 'alts'"
     ]
    }
   ],
   "source": [
    "adata, adatas = dm.experiments[your_experiment].toAnnData(alts=True)"
   ]
  },
  {
   "cell_type": "code",
   "execution_count": 44,
   "metadata": {},
   "outputs": [
    {
     "data": {
      "text/html": [
       "<div>\n",
       "<style scoped>\n",
       "    .dataframe tbody tr th:only-of-type {\n",
       "        vertical-align: middle;\n",
       "    }\n",
       "\n",
       "    .dataframe tbody tr th {\n",
       "        vertical-align: top;\n",
       "    }\n",
       "\n",
       "    .dataframe thead th {\n",
       "        text-align: right;\n",
       "    }\n",
       "</style>\n",
       "<table border=\"1\" class=\"dataframe\">\n",
       "  <thead>\n",
       "    <tr style=\"text-align: right;\">\n",
       "      <th></th>\n",
       "      <th>Sample</th>\n",
       "      <th>Barcode</th>\n",
       "      <th>DemuxType_hashing</th>\n",
       "      <th>DemuxAssignment_hashing</th>\n",
       "      <th>Treatment</th>\n",
       "      <th>Cellline</th>\n",
       "      <th>n_genes_by_counts</th>\n",
       "      <th>total_counts</th>\n",
       "      <th>total_counts_mt</th>\n",
       "      <th>pct_counts_mt</th>\n",
       "      <th>total_counts_ribo</th>\n",
       "      <th>pct_counts_ribo</th>\n",
       "      <th>qc_pass</th>\n",
       "      <th>S_score</th>\n",
       "      <th>G2M_score</th>\n",
       "      <th>phase</th>\n",
       "    </tr>\n",
       "  </thead>\n",
       "  <tbody>\n",
       "    <tr>\n",
       "      <th>SAM24437819_rep1-AAACCCAAGAGAGGTA</th>\n",
       "      <td>SAM24437819_rep1</td>\n",
       "      <td>AAACCCAAGAGAGGTA</td>\n",
       "      <td>doublet</td>\n",
       "      <td>E3,D7,D2,D6</td>\n",
       "      <td>NaN</td>\n",
       "      <td>NaN</td>\n",
       "      <td>3964</td>\n",
       "      <td>16353</td>\n",
       "      <td>433</td>\n",
       "      <td>2.647832</td>\n",
       "      <td>5336</td>\n",
       "      <td>32.630098</td>\n",
       "      <td>False</td>\n",
       "      <td>-1.166667</td>\n",
       "      <td>0.533321</td>\n",
       "      <td>G2M</td>\n",
       "    </tr>\n",
       "    <tr>\n",
       "      <th>SAM24437819_rep1-AAACCCAAGGAGTCTG</th>\n",
       "      <td>SAM24437819_rep1</td>\n",
       "      <td>AAACCCAAGGAGTCTG</td>\n",
       "      <td>doublet</td>\n",
       "      <td>D5,D6</td>\n",
       "      <td>NaN</td>\n",
       "      <td>NaN</td>\n",
       "      <td>4742</td>\n",
       "      <td>16893</td>\n",
       "      <td>1021</td>\n",
       "      <td>6.043924</td>\n",
       "      <td>4535</td>\n",
       "      <td>26.845439</td>\n",
       "      <td>False</td>\n",
       "      <td>-0.961240</td>\n",
       "      <td>1.384925</td>\n",
       "      <td>G2M</td>\n",
       "    </tr>\n",
       "    <tr>\n",
       "      <th>SAM24437819_rep1-AAACCCAAGGTGAGCT</th>\n",
       "      <td>SAM24437819_rep1</td>\n",
       "      <td>AAACCCAAGGTGAGCT</td>\n",
       "      <td>singlet</td>\n",
       "      <td>SW1417_Control</td>\n",
       "      <td>Control</td>\n",
       "      <td>SW1417</td>\n",
       "      <td>1186</td>\n",
       "      <td>1918</td>\n",
       "      <td>346</td>\n",
       "      <td>18.039625</td>\n",
       "      <td>32</td>\n",
       "      <td>1.668405</td>\n",
       "      <td>False</td>\n",
       "      <td>0.069767</td>\n",
       "      <td>0.038028</td>\n",
       "      <td>S</td>\n",
       "    </tr>\n",
       "    <tr>\n",
       "      <th>SAM24437819_rep1-AAACCCAAGTAGTGCG</th>\n",
       "      <td>SAM24437819_rep1</td>\n",
       "      <td>AAACCCAAGTAGTGCG</td>\n",
       "      <td>singlet</td>\n",
       "      <td>SKCO1_Day6</td>\n",
       "      <td>Day6</td>\n",
       "      <td>SKCO1</td>\n",
       "      <td>2888</td>\n",
       "      <td>8414</td>\n",
       "      <td>350</td>\n",
       "      <td>4.159734</td>\n",
       "      <td>2623</td>\n",
       "      <td>31.174233</td>\n",
       "      <td>True</td>\n",
       "      <td>-0.655039</td>\n",
       "      <td>-0.473678</td>\n",
       "      <td>G1</td>\n",
       "    </tr>\n",
       "    <tr>\n",
       "      <th>SAM24437819_rep1-AAACCCACAAGTTGGG</th>\n",
       "      <td>SAM24437819_rep1</td>\n",
       "      <td>AAACCCACAAGTTGGG</td>\n",
       "      <td>doublet</td>\n",
       "      <td>D7,E3</td>\n",
       "      <td>NaN</td>\n",
       "      <td>NaN</td>\n",
       "      <td>2798</td>\n",
       "      <td>7454</td>\n",
       "      <td>18</td>\n",
       "      <td>0.241481</td>\n",
       "      <td>1903</td>\n",
       "      <td>25.529917</td>\n",
       "      <td>False</td>\n",
       "      <td>-0.647287</td>\n",
       "      <td>-0.337855</td>\n",
       "      <td>G1</td>\n",
       "    </tr>\n",
       "    <tr>\n",
       "      <th>...</th>\n",
       "      <td>...</td>\n",
       "      <td>...</td>\n",
       "      <td>...</td>\n",
       "      <td>...</td>\n",
       "      <td>...</td>\n",
       "      <td>...</td>\n",
       "      <td>...</td>\n",
       "      <td>...</td>\n",
       "      <td>...</td>\n",
       "      <td>...</td>\n",
       "      <td>...</td>\n",
       "      <td>...</td>\n",
       "      <td>...</td>\n",
       "      <td>...</td>\n",
       "      <td>...</td>\n",
       "      <td>...</td>\n",
       "    </tr>\n",
       "    <tr>\n",
       "      <th>SAM24413583-TTGCATTAGGTTCTAC</th>\n",
       "      <td>SAM24413583</td>\n",
       "      <td>TTGCATTAGGTTCTAC</td>\n",
       "      <td>doublet-singlet</td>\n",
       "      <td>RCM1_Control</td>\n",
       "      <td>Control</td>\n",
       "      <td>RCM1</td>\n",
       "      <td>3626</td>\n",
       "      <td>12968</td>\n",
       "      <td>709</td>\n",
       "      <td>5.467304</td>\n",
       "      <td>3447</td>\n",
       "      <td>26.580814</td>\n",
       "      <td>True</td>\n",
       "      <td>0.106168</td>\n",
       "      <td>-0.439328</td>\n",
       "      <td>S</td>\n",
       "    </tr>\n",
       "    <tr>\n",
       "      <th>SAM24413583-TTGCTGCGTGTCATTG</th>\n",
       "      <td>SAM24413583</td>\n",
       "      <td>TTGCTGCGTGTCATTG</td>\n",
       "      <td>doublet-singlet</td>\n",
       "      <td>RCM1_Control</td>\n",
       "      <td>Control</td>\n",
       "      <td>RCM1</td>\n",
       "      <td>2499</td>\n",
       "      <td>8251</td>\n",
       "      <td>602</td>\n",
       "      <td>7.296085</td>\n",
       "      <td>3216</td>\n",
       "      <td>38.977093</td>\n",
       "      <td>True</td>\n",
       "      <td>-0.123124</td>\n",
       "      <td>-0.664217</td>\n",
       "      <td>G1</td>\n",
       "    </tr>\n",
       "    <tr>\n",
       "      <th>SAM24413583-TTGGGATCAACTGAAA</th>\n",
       "      <td>SAM24413583</td>\n",
       "      <td>TTGGGATCAACTGAAA</td>\n",
       "      <td>doublet-singlet</td>\n",
       "      <td>RCM1_Control</td>\n",
       "      <td>Control</td>\n",
       "      <td>RCM1</td>\n",
       "      <td>4222</td>\n",
       "      <td>18003</td>\n",
       "      <td>884</td>\n",
       "      <td>4.910293</td>\n",
       "      <td>5551</td>\n",
       "      <td>30.833752</td>\n",
       "      <td>True</td>\n",
       "      <td>-0.836743</td>\n",
       "      <td>-1.304655</td>\n",
       "      <td>G1</td>\n",
       "    </tr>\n",
       "    <tr>\n",
       "      <th>SAM24413583-TTTACTGCACGAAGAC</th>\n",
       "      <td>SAM24413583</td>\n",
       "      <td>TTTACTGCACGAAGAC</td>\n",
       "      <td>doublet-singlet</td>\n",
       "      <td>RCM1_Control</td>\n",
       "      <td>Control</td>\n",
       "      <td>RCM1</td>\n",
       "      <td>4628</td>\n",
       "      <td>23298</td>\n",
       "      <td>1843</td>\n",
       "      <td>7.910551</td>\n",
       "      <td>8386</td>\n",
       "      <td>35.994507</td>\n",
       "      <td>True</td>\n",
       "      <td>-1.176169</td>\n",
       "      <td>-1.152832</td>\n",
       "      <td>G1</td>\n",
       "    </tr>\n",
       "    <tr>\n",
       "      <th>SAM24413583-TTTAGTCCAAGTCGTT</th>\n",
       "      <td>SAM24413583</td>\n",
       "      <td>TTTAGTCCAAGTCGTT</td>\n",
       "      <td>doublet-singlet</td>\n",
       "      <td>RCM1_Control</td>\n",
       "      <td>Control</td>\n",
       "      <td>RCM1</td>\n",
       "      <td>2659</td>\n",
       "      <td>9487</td>\n",
       "      <td>1233</td>\n",
       "      <td>12.996732</td>\n",
       "      <td>3181</td>\n",
       "      <td>33.530094</td>\n",
       "      <td>True</td>\n",
       "      <td>-0.836432</td>\n",
       "      <td>-1.458856</td>\n",
       "      <td>G1</td>\n",
       "    </tr>\n",
       "  </tbody>\n",
       "</table>\n",
       "<p>57819 rows × 16 columns</p>\n",
       "</div>"
      ],
      "text/plain": [
       "                                             Sample           Barcode  \\\n",
       "SAM24437819_rep1-AAACCCAAGAGAGGTA  SAM24437819_rep1  AAACCCAAGAGAGGTA   \n",
       "SAM24437819_rep1-AAACCCAAGGAGTCTG  SAM24437819_rep1  AAACCCAAGGAGTCTG   \n",
       "SAM24437819_rep1-AAACCCAAGGTGAGCT  SAM24437819_rep1  AAACCCAAGGTGAGCT   \n",
       "SAM24437819_rep1-AAACCCAAGTAGTGCG  SAM24437819_rep1  AAACCCAAGTAGTGCG   \n",
       "SAM24437819_rep1-AAACCCACAAGTTGGG  SAM24437819_rep1  AAACCCACAAGTTGGG   \n",
       "...                                             ...               ...   \n",
       "SAM24413583-TTGCATTAGGTTCTAC            SAM24413583  TTGCATTAGGTTCTAC   \n",
       "SAM24413583-TTGCTGCGTGTCATTG            SAM24413583  TTGCTGCGTGTCATTG   \n",
       "SAM24413583-TTGGGATCAACTGAAA            SAM24413583  TTGGGATCAACTGAAA   \n",
       "SAM24413583-TTTACTGCACGAAGAC            SAM24413583  TTTACTGCACGAAGAC   \n",
       "SAM24413583-TTTAGTCCAAGTCGTT            SAM24413583  TTTAGTCCAAGTCGTT   \n",
       "\n",
       "                                  DemuxType_hashing DemuxAssignment_hashing  \\\n",
       "SAM24437819_rep1-AAACCCAAGAGAGGTA           doublet             E3,D7,D2,D6   \n",
       "SAM24437819_rep1-AAACCCAAGGAGTCTG           doublet                   D5,D6   \n",
       "SAM24437819_rep1-AAACCCAAGGTGAGCT           singlet          SW1417_Control   \n",
       "SAM24437819_rep1-AAACCCAAGTAGTGCG           singlet              SKCO1_Day6   \n",
       "SAM24437819_rep1-AAACCCACAAGTTGGG           doublet                   D7,E3   \n",
       "...                                             ...                     ...   \n",
       "SAM24413583-TTGCATTAGGTTCTAC        doublet-singlet            RCM1_Control   \n",
       "SAM24413583-TTGCTGCGTGTCATTG        doublet-singlet            RCM1_Control   \n",
       "SAM24413583-TTGGGATCAACTGAAA        doublet-singlet            RCM1_Control   \n",
       "SAM24413583-TTTACTGCACGAAGAC        doublet-singlet            RCM1_Control   \n",
       "SAM24413583-TTTAGTCCAAGTCGTT        doublet-singlet            RCM1_Control   \n",
       "\n",
       "                                  Treatment Cellline  n_genes_by_counts  \\\n",
       "SAM24437819_rep1-AAACCCAAGAGAGGTA       NaN      NaN               3964   \n",
       "SAM24437819_rep1-AAACCCAAGGAGTCTG       NaN      NaN               4742   \n",
       "SAM24437819_rep1-AAACCCAAGGTGAGCT   Control   SW1417               1186   \n",
       "SAM24437819_rep1-AAACCCAAGTAGTGCG      Day6    SKCO1               2888   \n",
       "SAM24437819_rep1-AAACCCACAAGTTGGG       NaN      NaN               2798   \n",
       "...                                     ...      ...                ...   \n",
       "SAM24413583-TTGCATTAGGTTCTAC        Control     RCM1               3626   \n",
       "SAM24413583-TTGCTGCGTGTCATTG        Control     RCM1               2499   \n",
       "SAM24413583-TTGGGATCAACTGAAA        Control     RCM1               4222   \n",
       "SAM24413583-TTTACTGCACGAAGAC        Control     RCM1               4628   \n",
       "SAM24413583-TTTAGTCCAAGTCGTT        Control     RCM1               2659   \n",
       "\n",
       "                                   total_counts  total_counts_mt  \\\n",
       "SAM24437819_rep1-AAACCCAAGAGAGGTA         16353              433   \n",
       "SAM24437819_rep1-AAACCCAAGGAGTCTG         16893             1021   \n",
       "SAM24437819_rep1-AAACCCAAGGTGAGCT          1918              346   \n",
       "SAM24437819_rep1-AAACCCAAGTAGTGCG          8414              350   \n",
       "SAM24437819_rep1-AAACCCACAAGTTGGG          7454               18   \n",
       "...                                         ...              ...   \n",
       "SAM24413583-TTGCATTAGGTTCTAC              12968              709   \n",
       "SAM24413583-TTGCTGCGTGTCATTG               8251              602   \n",
       "SAM24413583-TTGGGATCAACTGAAA              18003              884   \n",
       "SAM24413583-TTTACTGCACGAAGAC              23298             1843   \n",
       "SAM24413583-TTTAGTCCAAGTCGTT               9487             1233   \n",
       "\n",
       "                                   pct_counts_mt  total_counts_ribo  \\\n",
       "SAM24437819_rep1-AAACCCAAGAGAGGTA       2.647832               5336   \n",
       "SAM24437819_rep1-AAACCCAAGGAGTCTG       6.043924               4535   \n",
       "SAM24437819_rep1-AAACCCAAGGTGAGCT      18.039625                 32   \n",
       "SAM24437819_rep1-AAACCCAAGTAGTGCG       4.159734               2623   \n",
       "SAM24437819_rep1-AAACCCACAAGTTGGG       0.241481               1903   \n",
       "...                                          ...                ...   \n",
       "SAM24413583-TTGCATTAGGTTCTAC            5.467304               3447   \n",
       "SAM24413583-TTGCTGCGTGTCATTG            7.296085               3216   \n",
       "SAM24413583-TTGGGATCAACTGAAA            4.910293               5551   \n",
       "SAM24413583-TTTACTGCACGAAGAC            7.910551               8386   \n",
       "SAM24413583-TTTAGTCCAAGTCGTT           12.996732               3181   \n",
       "\n",
       "                                   pct_counts_ribo  qc_pass   S_score  \\\n",
       "SAM24437819_rep1-AAACCCAAGAGAGGTA        32.630098    False -1.166667   \n",
       "SAM24437819_rep1-AAACCCAAGGAGTCTG        26.845439    False -0.961240   \n",
       "SAM24437819_rep1-AAACCCAAGGTGAGCT         1.668405    False  0.069767   \n",
       "SAM24437819_rep1-AAACCCAAGTAGTGCG        31.174233     True -0.655039   \n",
       "SAM24437819_rep1-AAACCCACAAGTTGGG        25.529917    False -0.647287   \n",
       "...                                            ...      ...       ...   \n",
       "SAM24413583-TTGCATTAGGTTCTAC             26.580814     True  0.106168   \n",
       "SAM24413583-TTGCTGCGTGTCATTG             38.977093     True -0.123124   \n",
       "SAM24413583-TTGGGATCAACTGAAA             30.833752     True -0.836743   \n",
       "SAM24413583-TTTACTGCACGAAGAC             35.994507     True -1.176169   \n",
       "SAM24413583-TTTAGTCCAAGTCGTT             33.530094     True -0.836432   \n",
       "\n",
       "                                   G2M_score phase  \n",
       "SAM24437819_rep1-AAACCCAAGAGAGGTA   0.533321   G2M  \n",
       "SAM24437819_rep1-AAACCCAAGGAGTCTG   1.384925   G2M  \n",
       "SAM24437819_rep1-AAACCCAAGGTGAGCT   0.038028     S  \n",
       "SAM24437819_rep1-AAACCCAAGTAGTGCG  -0.473678    G1  \n",
       "SAM24437819_rep1-AAACCCACAAGTTGGG  -0.337855    G1  \n",
       "...                                      ...   ...  \n",
       "SAM24413583-TTGCATTAGGTTCTAC       -0.439328     S  \n",
       "SAM24413583-TTGCTGCGTGTCATTG       -0.664217    G1  \n",
       "SAM24413583-TTGGGATCAACTGAAA       -1.304655    G1  \n",
       "SAM24413583-TTTACTGCACGAAGAC       -1.152832    G1  \n",
       "SAM24413583-TTTAGTCCAAGTCGTT       -1.458856    G1  \n",
       "\n",
       "[57819 rows x 16 columns]"
      ]
     },
     "execution_count": 44,
     "metadata": {},
     "output_type": "execute_result"
    }
   ],
   "source": [
    "adata.obs"
   ]
  },
  {
   "cell_type": "code",
   "execution_count": 40,
   "metadata": {},
   "outputs": [
    {
     "ename": "AttributeError",
     "evalue": "'NoneType' object has no attribute 'keys'",
     "output_type": "error",
     "traceback": [
      "\u001b[0;31m---------------------------------------------------------------------------\u001b[0m",
      "\u001b[0;31mAttributeError\u001b[0m                            Traceback (most recent call last)",
      "Cell \u001b[0;32mIn[40], line 1\u001b[0m\n\u001b[0;32m----> 1\u001b[0m \u001b[38;5;28mlist\u001b[39m(\u001b[43madatas\u001b[49m\u001b[38;5;241;43m.\u001b[39;49m\u001b[43mkeys\u001b[49m())\n",
      "\u001b[0;31mAttributeError\u001b[0m: 'NoneType' object has no attribute 'keys'"
     ]
    }
   ],
   "source": [
    "list(adatas.keys())"
   ]
  },
  {
   "cell_type": "code",
   "execution_count": 33,
   "metadata": {},
   "outputs": [
    {
     "data": {
      "text/html": [
       "<div>\n",
       "<style scoped>\n",
       "    .dataframe tbody tr th:only-of-type {\n",
       "        vertical-align: middle;\n",
       "    }\n",
       "\n",
       "    .dataframe tbody tr th {\n",
       "        vertical-align: top;\n",
       "    }\n",
       "\n",
       "    .dataframe thead th {\n",
       "        text-align: right;\n",
       "    }\n",
       "</style>\n",
       "<table border=\"1\" class=\"dataframe\">\n",
       "  <thead>\n",
       "    <tr style=\"text-align: right;\">\n",
       "      <th></th>\n",
       "      <th>Sample</th>\n",
       "      <th>Barcode</th>\n",
       "      <th>demux_type</th>\n",
       "      <th>assignment</th>\n",
       "      <th>cell_line</th>\n",
       "      <th>lib</th>\n",
       "      <th>HTO</th>\n",
       "    </tr>\n",
       "  </thead>\n",
       "  <tbody>\n",
       "  </tbody>\n",
       "</table>\n",
       "</div>"
      ],
      "text/plain": [
       "Empty DataFrame\n",
       "Columns: [Sample, Barcode, demux_type, assignment, cell_line, lib, HTO]\n",
       "Index: []"
      ]
     },
     "execution_count": 33,
     "metadata": {},
     "output_type": "execute_result"
    }
   ],
   "source": [
    "adata.obs[adata.obs.index==\"SAM24426528_Replicate1-TTTGTTGTCTTCTCAA-1\"]"
   ]
  },
  {
   "cell_type": "code",
   "execution_count": 60,
   "metadata": {},
   "outputs": [
    {
     "data": {
      "text/plain": [
       "126731"
      ]
     },
     "execution_count": 60,
     "metadata": {},
     "output_type": "execute_result"
    }
   ],
   "source": [
    "len(adata.obs[\"Barcode\"].unique().tolist())"
   ]
  },
  {
   "cell_type": "code",
   "execution_count": 63,
   "metadata": {},
   "outputs": [],
   "source": [
    "adata.obs[\"UMI\"] = adata.obs.index"
   ]
  },
  {
   "cell_type": "code",
   "execution_count": 64,
   "metadata": {},
   "outputs": [
    {
     "data": {
      "text/plain": [
       "AnnData object with n_obs × n_vars = 128249 × 36603\n",
       "    obs: 'Sample', 'Barcode', 'demux_type', 'assignment', 'cell_line', 'lib', 'UMI'\n",
       "    var: 'ID', 'Symbol', 'Type'\n",
       "    uns: '.internal'\n",
       "    layers: 'counts'"
      ]
     },
     "execution_count": 64,
     "metadata": {},
     "output_type": "execute_result"
    }
   ],
   "source": [
    "adata"
   ]
  },
  {
   "cell_type": "code",
   "execution_count": 65,
   "metadata": {},
   "outputs": [
    {
     "data": {
      "text/plain": [
       "128249"
      ]
     },
     "execution_count": 65,
     "metadata": {},
     "output_type": "execute_result"
    }
   ],
   "source": [
    "len(adata.obs[\"UMI\"].unique().tolist())"
   ]
  },
  {
   "cell_type": "markdown",
   "metadata": {},
   "source": [
    "#### See a list of all alternative experiments to select from them"
   ]
  },
  {
   "cell_type": "code",
   "execution_count": 21,
   "metadata": {},
   "outputs": [
    {
     "data": {
      "text/plain": [
       "['hashing']"
      ]
     },
     "execution_count": 21,
     "metadata": {},
     "output_type": "execute_result"
    }
   ],
   "source": [
    "list(adatas.keys())"
   ]
  },
  {
   "cell_type": "markdown",
   "metadata": {},
   "source": [
    "### Checking the dataset"
   ]
  },
  {
   "cell_type": "code",
   "execution_count": 22,
   "metadata": {},
   "outputs": [
    {
     "data": {
      "text/html": [
       "<div>\n",
       "<style scoped>\n",
       "    .dataframe tbody tr th:only-of-type {\n",
       "        vertical-align: middle;\n",
       "    }\n",
       "\n",
       "    .dataframe tbody tr th {\n",
       "        vertical-align: top;\n",
       "    }\n",
       "\n",
       "    .dataframe thead th {\n",
       "        text-align: right;\n",
       "    }\n",
       "</style>\n",
       "<table border=\"1\" class=\"dataframe\">\n",
       "  <thead>\n",
       "    <tr style=\"text-align: right;\">\n",
       "      <th></th>\n",
       "      <th>Sample</th>\n",
       "      <th>Barcode</th>\n",
       "      <th>demux_type</th>\n",
       "      <th>assignment</th>\n",
       "    </tr>\n",
       "  </thead>\n",
       "  <tbody>\n",
       "    <tr>\n",
       "      <th>SAM24438240_rep1-AAACCCAAGACTGAGC</th>\n",
       "      <td>SAM24438240_rep1</td>\n",
       "      <td>AAACCCAAGACTGAGC</td>\n",
       "      <td>singlet</td>\n",
       "      <td>AKPSFULLAPCorganoid_TNKi500nM</td>\n",
       "    </tr>\n",
       "    <tr>\n",
       "      <th>SAM24438240_rep1-AAACCCAAGGCCACTC</th>\n",
       "      <td>SAM24438240_rep1</td>\n",
       "      <td>AAACCCAAGGCCACTC</td>\n",
       "      <td>singlet</td>\n",
       "      <td>AKPScontrolorganoid_DMSO</td>\n",
       "    </tr>\n",
       "    <tr>\n",
       "      <th>SAM24438240_rep1-AAACCCAAGTAGCATA</th>\n",
       "      <td>SAM24438240_rep1</td>\n",
       "      <td>AAACCCAAGTAGCATA</td>\n",
       "      <td>singlet</td>\n",
       "      <td>AKPScontrolorganoid_DMSO</td>\n",
       "    </tr>\n",
       "    <tr>\n",
       "      <th>SAM24438240_rep1-AAACCCACAACCAGAG</th>\n",
       "      <td>SAM24438240_rep1</td>\n",
       "      <td>AAACCCACAACCAGAG</td>\n",
       "      <td>unknown</td>\n",
       "      <td>NaN</td>\n",
       "    </tr>\n",
       "    <tr>\n",
       "      <th>SAM24438240_rep1-AAACCCACACCTGAAT</th>\n",
       "      <td>SAM24438240_rep1</td>\n",
       "      <td>AAACCCACACCTGAAT</td>\n",
       "      <td>singlet</td>\n",
       "      <td>AKPSFULLAPCorganoid_TNKi2uM</td>\n",
       "    </tr>\n",
       "  </tbody>\n",
       "</table>\n",
       "</div>"
      ],
      "text/plain": [
       "                                             Sample           Barcode  \\\n",
       "SAM24438240_rep1-AAACCCAAGACTGAGC  SAM24438240_rep1  AAACCCAAGACTGAGC   \n",
       "SAM24438240_rep1-AAACCCAAGGCCACTC  SAM24438240_rep1  AAACCCAAGGCCACTC   \n",
       "SAM24438240_rep1-AAACCCAAGTAGCATA  SAM24438240_rep1  AAACCCAAGTAGCATA   \n",
       "SAM24438240_rep1-AAACCCACAACCAGAG  SAM24438240_rep1  AAACCCACAACCAGAG   \n",
       "SAM24438240_rep1-AAACCCACACCTGAAT  SAM24438240_rep1  AAACCCACACCTGAAT   \n",
       "\n",
       "                                  demux_type                     assignment  \n",
       "SAM24438240_rep1-AAACCCAAGACTGAGC    singlet  AKPSFULLAPCorganoid_TNKi500nM  \n",
       "SAM24438240_rep1-AAACCCAAGGCCACTC    singlet       AKPScontrolorganoid_DMSO  \n",
       "SAM24438240_rep1-AAACCCAAGTAGCATA    singlet       AKPScontrolorganoid_DMSO  \n",
       "SAM24438240_rep1-AAACCCACAACCAGAG    unknown                            NaN  \n",
       "SAM24438240_rep1-AAACCCACACCTGAAT    singlet    AKPSFULLAPCorganoid_TNKi2uM  "
      ]
     },
     "execution_count": 22,
     "metadata": {},
     "output_type": "execute_result"
    }
   ],
   "source": [
    "adata.obs.head()"
   ]
  },
  {
   "cell_type": "code",
   "execution_count": 43,
   "metadata": {},
   "outputs": [
    {
     "data": {
      "text/plain": [
       "Index(['ENSMUSG00000051951', 'ENSMUSG00000089699', 'ENSMUSG00000102331',\n",
       "       'ENSMUSG00000102343', 'ENSMUSG00000025900', 'ENSMUSG00000025902',\n",
       "       'ENSMUSG00000104238', 'ENSMUSG00000104328', 'ENSMUSG00000033845',\n",
       "       'ENSMUSG00000025903',\n",
       "       ...\n",
       "       'ENSMUSG00000096550', 'ENSMUSG00000094172', 'ENSMUSG00000094887',\n",
       "       'ENSMUSG00000091585', 'ENSMUSG00000095763', 'ENSMUSG00000095523',\n",
       "       'ENSMUSG00000095475', 'ENSMUSG00000094855', 'ENSMUSG00000095019',\n",
       "       'ENSMUSG00000095041'],\n",
       "      dtype='object', length=32285)"
      ]
     },
     "execution_count": 43,
     "metadata": {},
     "output_type": "execute_result"
    }
   ],
   "source": [
    "adata.var_names"
   ]
  },
  {
   "cell_type": "code",
   "execution_count": 47,
   "metadata": {},
   "outputs": [
    {
     "data": {
      "text/plain": [
       "str"
      ]
     },
     "execution_count": 47,
     "metadata": {},
     "output_type": "execute_result"
    }
   ],
   "source": [
    "type(adata.var[\"Symbol\"][0])"
   ]
  },
  {
   "cell_type": "code",
   "execution_count": 23,
   "metadata": {},
   "outputs": [
    {
     "data": {
      "text/plain": [
       "OverloadedDict, wrapping:\n",
       "\t{'genome': 'mm10', 'modality': 'rna', 'uns_dict': {'SAM24438240_rep1': {'uid': 'mm10-rna'}, 'SAM24438240_rep2': {'uid': 'mm10-rna'}, 'SAM24438240_rep3': {'uid': 'mm10-rna'}}, 'uid': 'mm10-rna', 'adt_summary': {'LIB5475290_SAM24438240': 'Total number of reads: 37570906\\nNumber of reads with valid cell barcodes: 36599598 (97.41%)\\nNumber of reads with valid feature barcodes: 23546694 (62.67%)\\nNumber of reads with valid cell and feature barcodes: 23020966 (61.27%)\\n\\nSection LIB5475290_SAM24438240.hashing\\nNumber of valid cell barcodes: 809441\\nNumber of valid reads (with matching cell and feature barcodes): 23020966\\nMean number of valid reads per cell barcode: 28.44\\nNumber of valid UMIs (with matching cell and feature barcodes): 19429600\\nMean number of valid UMIs per cell barcode: 24.00\\nSequencing saturation: 15.60%\\n', 'LIB5475292_SAM24438240': 'Total number of reads: 46870056\\nNumber of reads with valid cell barcodes: 45730337 (97.57%)\\nNumber of reads with valid feature barcodes: 29795845 (63.57%)\\nNumber of reads with valid cell and feature barcodes: 29176327 (62.25%)\\n\\nSection LIB5475292_SAM24438240.hashing\\nNumber of valid cell barcodes: 437020\\nNumber of valid reads (with matching cell and feature barcodes): 29176327\\nMean number of valid reads per cell barcode: 66.76\\nNumber of valid UMIs (with matching cell and feature barcodes): 24260325\\nMean number of valid UMIs per cell barcode: 55.51\\nSequencing saturation: 16.85%\\n', 'LIB5475291_SAM24438240': 'Total number of reads: 47385356\\nNumber of reads with valid cell barcodes: 46162390 (97.42%)\\nNumber of reads with valid feature barcodes: 29832216 (62.96%)\\nNumber of reads with valid cell and feature barcodes: 29167118 (61.55%)\\n\\nSection LIB5475291_SAM24438240.hashing\\nNumber of valid cell barcodes: 826033\\nNumber of valid reads (with matching cell and feature barcodes): 29167118\\nMean number of valid reads per cell barcode: 35.31\\nNumber of valid UMIs (with matching cell and feature barcodes): 24074170\\nMean number of valid UMIs per cell barcode: 29.14\\nSequencing saturation: 17.46%\\n'}, '.internal': {'metadata': '{\\n  \"$schema\": \"single_cell_experiment/v2.json\",\\n  \"is_child\": true,\\n  \"path\": \"\",\\n  \"single_cell_experiment\": {\\n    \"reduced_dimensions\": {\\n      \"resource\": {\\n        \"path\": \"\",\\n        \"type\": \"local\"\\n      }\\n    }\\n  },\\n  \"summarized_experiment\": {\\n    \"annotation\": {\\n      \"id\": \"GMTY167:GRCm38-exonic@REVISION-1\",\\n      \"namespace\": [\\n        {\\n          \"id\": \"GRCm38\",\\n          \"type\": \"genome\"\\n        },\\n        {\\n          \"id\": \"98\",\\n          \"type\": \"ensembl\"\\n        }\\n      ],\\n      \"organism\": [\\n        \"Mus musculus\"\\n      ],\\n      \"type\": \"genomitory\"\\n    },\\n    \"assays\": [\\n      {\\n        \"name\": \"pydsdb-dummy\",\\n        \"resource\": {\\n          \"path\": \"\",\\n          \"type\": \"local\"\\n        }\\n      }\\n    ],\\n    \"column_data\": {\\n      \"resource\": {\\n        \"path\": \"\",\\n        \"type\": \"local\"\\n      }\\n    },\\n    \"description\": \"Gene expression counts for filtered barcodes from the Cumulus CellRanger workflow.\",\\n    \"dimensions\": [\\n      0,\\n      0\\n    ],\\n    \"row_data\": {\\n      \"resource\": {\\n        \"path\": \"\",\\n        \"type\": \"local\"\\n      }\\n    },\\n    \"sources\": [\\n      {\\n        \"id\": \"gs://gred-melo-carlos-lab/NGS5400/SAM24438240\",\\n        \"name\": \"Cumulus\"\\n      },\\n      {\\n        \"id\": \"n/a\",\\n        \"name\": \"pydsdb\",\\n        \"version\": \"1.1.1\"\\n      }\\n    ],\\n    \"technology\": {\\n      \"details\": \"10x Genomics\",\\n      \"name\": \"scRNA-seq\",\\n      \"terms\": [\\n        {\\n          \"id\": \"EFO:0008913\",\\n          \"source\": \"Experimental Factor Ontology\",\\n          \"version\": \"v3.39.1\"\\n        }\\n      ]\\n    },\\n    \"title\": \"Filtered gene expression counts\"\\n  }\\n}', 'paths': ['experiment-1/experiment.json', 'experiment-1/assay-1/matrix.h5', 'experiment-1/coldata/simple.csv.gz', 'experiment-1/coldata/column1/levels.csv.gz', 'experiment-1/metadata/list.gz', 'experiment-1/dimreds/values.h5'], 'assay_nums': {'counts': 1}, 'alt_nums': {'hashing': 1}, 'update_ready': False}}\n",
       "With overloaded keys:\n",
       "\t['neighbors']."
      ]
     },
     "execution_count": 23,
     "metadata": {},
     "output_type": "execute_result"
    }
   ],
   "source": [
    "adata.uns"
   ]
  },
  {
   "cell_type": "markdown",
   "metadata": {},
   "source": [
    "#### In a new version of AnnData adata.X is None, so compatible to this version we define it with layers['counts'] and and pass it to adata.X to be compatible with our scripts"
   ]
  },
  {
   "cell_type": "code",
   "execution_count": 23,
   "metadata": {},
   "outputs": [],
   "source": [
    "adata.X = adata.layers['counts']"
   ]
  },
  {
   "cell_type": "code",
   "execution_count": 24,
   "metadata": {},
   "outputs": [
    {
     "data": {
      "text/plain": [
       "<37071x36603 sparse matrix of type '<class 'numpy.uint16'>'\n",
       "\twith 75790143 stored elements in Compressed Sparse Row format>"
      ]
     },
     "execution_count": 24,
     "metadata": {},
     "output_type": "execute_result"
    }
   ],
   "source": [
    "adata.X"
   ]
  },
  {
   "cell_type": "markdown",
   "metadata": {},
   "source": [
    "## 3. Modify the anndata using a function (any operations you want)"
   ]
  },
  {
   "cell_type": "code",
   "execution_count": 27,
   "metadata": {},
   "outputs": [],
   "source": [
    "def ADATA_OPS(adata, adatas):\n",
    "    adata.obs[\"pct_counts_gene\"]=adata.obs[\"Barcode\"]+adata.obs[\"demux_type\"]\n",
    "    return adata, adatas"
   ]
  },
  {
   "cell_type": "code",
   "execution_count": 28,
   "metadata": {},
   "outputs": [],
   "source": [
    "adata_updated, adatas_updated = ADATA_OPS(adata, adatas)"
   ]
  },
  {
   "cell_type": "code",
   "execution_count": 29,
   "metadata": {},
   "outputs": [
    {
     "data": {
      "text/html": [
       "<div>\n",
       "<style scoped>\n",
       "    .dataframe tbody tr th:only-of-type {\n",
       "        vertical-align: middle;\n",
       "    }\n",
       "\n",
       "    .dataframe tbody tr th {\n",
       "        vertical-align: top;\n",
       "    }\n",
       "\n",
       "    .dataframe thead th {\n",
       "        text-align: right;\n",
       "    }\n",
       "</style>\n",
       "<table border=\"1\" class=\"dataframe\">\n",
       "  <thead>\n",
       "    <tr style=\"text-align: right;\">\n",
       "      <th></th>\n",
       "      <th>Sample</th>\n",
       "      <th>Barcode</th>\n",
       "      <th>demux_type</th>\n",
       "      <th>assignment</th>\n",
       "      <th>pct_counts_gene</th>\n",
       "    </tr>\n",
       "  </thead>\n",
       "  <tbody>\n",
       "    <tr>\n",
       "      <th>SAM24424070_Replicate1-AAACCCAAGACGTCGA-1</th>\n",
       "      <td>SAM24424070_Replicate1</td>\n",
       "      <td>AAACCCAAGACGTCGA-1</td>\n",
       "      <td>doublet</td>\n",
       "      <td>ENSG00000047230_1,ENSG00000132517_4</td>\n",
       "      <td>AAACCCAAGACGTCGA-1doublet</td>\n",
       "    </tr>\n",
       "    <tr>\n",
       "      <th>SAM24424070_Replicate1-AAACCCAAGAGATTCA-1</th>\n",
       "      <td>SAM24424070_Replicate1</td>\n",
       "      <td>AAACCCAAGAGATTCA-1</td>\n",
       "      <td>doublet</td>\n",
       "      <td>ENSG00000173085_1,ENSG00000205846_3</td>\n",
       "      <td>AAACCCAAGAGATTCA-1doublet</td>\n",
       "    </tr>\n",
       "    <tr>\n",
       "      <th>SAM24424070_Replicate1-AAACCCAAGCCAGACA-1</th>\n",
       "      <td>SAM24424070_Replicate1</td>\n",
       "      <td>AAACCCAAGCCAGACA-1</td>\n",
       "      <td>doublet</td>\n",
       "      <td>ENSG00000175322_4,ENSG00000236782_1</td>\n",
       "      <td>AAACCCAAGCCAGACA-1doublet</td>\n",
       "    </tr>\n",
       "    <tr>\n",
       "      <th>SAM24424070_Replicate1-AAACCCAAGCGATGCA-1</th>\n",
       "      <td>SAM24424070_Replicate1</td>\n",
       "      <td>AAACCCAAGCGATGCA-1</td>\n",
       "      <td>singlet</td>\n",
       "      <td>ENSG00000176922_4</td>\n",
       "      <td>AAACCCAAGCGATGCA-1singlet</td>\n",
       "    </tr>\n",
       "    <tr>\n",
       "      <th>SAM24424070_Replicate1-AAACCCAAGGATATGT-1</th>\n",
       "      <td>SAM24424070_Replicate1</td>\n",
       "      <td>AAACCCAAGGATATGT-1</td>\n",
       "      <td>singlet</td>\n",
       "      <td>ENSG00000139291_4</td>\n",
       "      <td>AAACCCAAGGATATGT-1singlet</td>\n",
       "    </tr>\n",
       "    <tr>\n",
       "      <th>...</th>\n",
       "      <td>...</td>\n",
       "      <td>...</td>\n",
       "      <td>...</td>\n",
       "      <td>...</td>\n",
       "      <td>...</td>\n",
       "    </tr>\n",
       "    <tr>\n",
       "      <th>SAM24424071_Replicate1-TTTGTTGTCGCCGAAC-1</th>\n",
       "      <td>SAM24424071_Replicate1</td>\n",
       "      <td>TTTGTTGTCGCCGAAC-1</td>\n",
       "      <td>singlet</td>\n",
       "      <td>ENSG00000116039_1</td>\n",
       "      <td>TTTGTTGTCGCCGAAC-1singlet</td>\n",
       "    </tr>\n",
       "    <tr>\n",
       "      <th>SAM24424071_Replicate1-TTTGTTGTCGCGAAGA-1</th>\n",
       "      <td>SAM24424071_Replicate1</td>\n",
       "      <td>TTTGTTGTCGCGAAGA-1</td>\n",
       "      <td>doublet</td>\n",
       "      <td>ENSG00000163933_3,ENSG00000176219_3</td>\n",
       "      <td>TTTGTTGTCGCGAAGA-1doublet</td>\n",
       "    </tr>\n",
       "    <tr>\n",
       "      <th>SAM24424071_Replicate1-TTTGTTGTCGCTGTCT-1</th>\n",
       "      <td>SAM24424071_Replicate1</td>\n",
       "      <td>TTTGTTGTCGCTGTCT-1</td>\n",
       "      <td>singlet</td>\n",
       "      <td>ENSG00000166847_2</td>\n",
       "      <td>TTTGTTGTCGCTGTCT-1singlet</td>\n",
       "    </tr>\n",
       "    <tr>\n",
       "      <th>SAM24424071_Replicate1-TTTGTTGTCGTCACCT-1</th>\n",
       "      <td>SAM24424071_Replicate1</td>\n",
       "      <td>TTTGTTGTCGTCACCT-1</td>\n",
       "      <td>doublet</td>\n",
       "      <td>ENSG00000164332_2,ENSG00000203795_3,ENSG000001...</td>\n",
       "      <td>TTTGTTGTCGTCACCT-1doublet</td>\n",
       "    </tr>\n",
       "    <tr>\n",
       "      <th>SAM24424071_Replicate1-TTTGTTGTCTGGGTCG-1</th>\n",
       "      <td>SAM24424071_Replicate1</td>\n",
       "      <td>TTTGTTGTCTGGGTCG-1</td>\n",
       "      <td>singlet</td>\n",
       "      <td>ENSG00000163605_1</td>\n",
       "      <td>TTTGTTGTCTGGGTCG-1singlet</td>\n",
       "    </tr>\n",
       "  </tbody>\n",
       "</table>\n",
       "<p>37071 rows × 5 columns</p>\n",
       "</div>"
      ],
      "text/plain": [
       "                                                           Sample  \\\n",
       "SAM24424070_Replicate1-AAACCCAAGACGTCGA-1  SAM24424070_Replicate1   \n",
       "SAM24424070_Replicate1-AAACCCAAGAGATTCA-1  SAM24424070_Replicate1   \n",
       "SAM24424070_Replicate1-AAACCCAAGCCAGACA-1  SAM24424070_Replicate1   \n",
       "SAM24424070_Replicate1-AAACCCAAGCGATGCA-1  SAM24424070_Replicate1   \n",
       "SAM24424070_Replicate1-AAACCCAAGGATATGT-1  SAM24424070_Replicate1   \n",
       "...                                                           ...   \n",
       "SAM24424071_Replicate1-TTTGTTGTCGCCGAAC-1  SAM24424071_Replicate1   \n",
       "SAM24424071_Replicate1-TTTGTTGTCGCGAAGA-1  SAM24424071_Replicate1   \n",
       "SAM24424071_Replicate1-TTTGTTGTCGCTGTCT-1  SAM24424071_Replicate1   \n",
       "SAM24424071_Replicate1-TTTGTTGTCGTCACCT-1  SAM24424071_Replicate1   \n",
       "SAM24424071_Replicate1-TTTGTTGTCTGGGTCG-1  SAM24424071_Replicate1   \n",
       "\n",
       "                                                      Barcode demux_type  \\\n",
       "SAM24424070_Replicate1-AAACCCAAGACGTCGA-1  AAACCCAAGACGTCGA-1    doublet   \n",
       "SAM24424070_Replicate1-AAACCCAAGAGATTCA-1  AAACCCAAGAGATTCA-1    doublet   \n",
       "SAM24424070_Replicate1-AAACCCAAGCCAGACA-1  AAACCCAAGCCAGACA-1    doublet   \n",
       "SAM24424070_Replicate1-AAACCCAAGCGATGCA-1  AAACCCAAGCGATGCA-1    singlet   \n",
       "SAM24424070_Replicate1-AAACCCAAGGATATGT-1  AAACCCAAGGATATGT-1    singlet   \n",
       "...                                                       ...        ...   \n",
       "SAM24424071_Replicate1-TTTGTTGTCGCCGAAC-1  TTTGTTGTCGCCGAAC-1    singlet   \n",
       "SAM24424071_Replicate1-TTTGTTGTCGCGAAGA-1  TTTGTTGTCGCGAAGA-1    doublet   \n",
       "SAM24424071_Replicate1-TTTGTTGTCGCTGTCT-1  TTTGTTGTCGCTGTCT-1    singlet   \n",
       "SAM24424071_Replicate1-TTTGTTGTCGTCACCT-1  TTTGTTGTCGTCACCT-1    doublet   \n",
       "SAM24424071_Replicate1-TTTGTTGTCTGGGTCG-1  TTTGTTGTCTGGGTCG-1    singlet   \n",
       "\n",
       "                                                                                  assignment  \\\n",
       "SAM24424070_Replicate1-AAACCCAAGACGTCGA-1                ENSG00000047230_1,ENSG00000132517_4   \n",
       "SAM24424070_Replicate1-AAACCCAAGAGATTCA-1                ENSG00000173085_1,ENSG00000205846_3   \n",
       "SAM24424070_Replicate1-AAACCCAAGCCAGACA-1                ENSG00000175322_4,ENSG00000236782_1   \n",
       "SAM24424070_Replicate1-AAACCCAAGCGATGCA-1                                  ENSG00000176922_4   \n",
       "SAM24424070_Replicate1-AAACCCAAGGATATGT-1                                  ENSG00000139291_4   \n",
       "...                                                                                      ...   \n",
       "SAM24424071_Replicate1-TTTGTTGTCGCCGAAC-1                                  ENSG00000116039_1   \n",
       "SAM24424071_Replicate1-TTTGTTGTCGCGAAGA-1                ENSG00000163933_3,ENSG00000176219_3   \n",
       "SAM24424071_Replicate1-TTTGTTGTCGCTGTCT-1                                  ENSG00000166847_2   \n",
       "SAM24424071_Replicate1-TTTGTTGTCGTCACCT-1  ENSG00000164332_2,ENSG00000203795_3,ENSG000001...   \n",
       "SAM24424071_Replicate1-TTTGTTGTCTGGGTCG-1                                  ENSG00000163605_1   \n",
       "\n",
       "                                                     pct_counts_gene  \n",
       "SAM24424070_Replicate1-AAACCCAAGACGTCGA-1  AAACCCAAGACGTCGA-1doublet  \n",
       "SAM24424070_Replicate1-AAACCCAAGAGATTCA-1  AAACCCAAGAGATTCA-1doublet  \n",
       "SAM24424070_Replicate1-AAACCCAAGCCAGACA-1  AAACCCAAGCCAGACA-1doublet  \n",
       "SAM24424070_Replicate1-AAACCCAAGCGATGCA-1  AAACCCAAGCGATGCA-1singlet  \n",
       "SAM24424070_Replicate1-AAACCCAAGGATATGT-1  AAACCCAAGGATATGT-1singlet  \n",
       "...                                                              ...  \n",
       "SAM24424071_Replicate1-TTTGTTGTCGCCGAAC-1  TTTGTTGTCGCCGAAC-1singlet  \n",
       "SAM24424071_Replicate1-TTTGTTGTCGCGAAGA-1  TTTGTTGTCGCGAAGA-1doublet  \n",
       "SAM24424071_Replicate1-TTTGTTGTCGCTGTCT-1  TTTGTTGTCGCTGTCT-1singlet  \n",
       "SAM24424071_Replicate1-TTTGTTGTCGTCACCT-1  TTTGTTGTCGTCACCT-1doublet  \n",
       "SAM24424071_Replicate1-TTTGTTGTCTGGGTCG-1  TTTGTTGTCTGGGTCG-1singlet  \n",
       "\n",
       "[37071 rows x 5 columns]"
      ]
     },
     "execution_count": 29,
     "metadata": {},
     "output_type": "execute_result"
    }
   ],
   "source": [
    "adata_updated.obs"
   ]
  },
  {
   "cell_type": "markdown",
   "metadata": {},
   "source": [
    "## 4. Upload Preparation"
   ]
  },
  {
   "cell_type": "markdown",
   "metadata": {},
   "source": [
    "#### prepare experiment level metadata"
   ]
  },
  {
   "cell_type": "code",
   "execution_count": 30,
   "metadata": {},
   "outputs": [],
   "source": [
    "# title for the experiment\n",
    "title = \"Siavash test upload\"\n",
    "# description for the experiment\n",
    "description = \"Siavash test upload; this should be gone\"\n",
    "# genome information\n",
    "name_space = [{\"id\": \"GRCh38\", \"type\": \"genome\"}]\n",
    "organism = \"human\"\n",
    "# any identifiers you want to attach to the experiment, usually GEO ids, publication etc.\n",
    "sources = [{\"id\": \"Siavash-1234\", \"name\": \"Geo-ID\"}]\n",
    "# technology name; this is a controlled vocabulary\n",
    "tech_name = \"scRNA-seq\""
   ]
  },
  {
   "cell_type": "code",
   "execution_count": 31,
   "metadata": {},
   "outputs": [],
   "source": [
    "sce_metadata = pydsdb.create_sce_metadata(\n",
    "    description=description,\n",
    "    name_space=name_space,\n",
    "    organism=organism,\n",
    "    sources=sources,\n",
    "    technology_name=tech_name,\n",
    "    title=title)"
   ]
  },
  {
   "cell_type": "markdown",
   "metadata": {},
   "source": [
    "#### convert anndata to a SingleCellExperiment object"
   ]
  },
  {
   "cell_type": "markdown",
   "metadata": {},
   "source": [
    "#### Scenario I: not need alt ernative experiments"
   ]
  },
  {
   "cell_type": "code",
   "execution_count": 32,
   "metadata": {},
   "outputs": [],
   "source": [
    "tse_2 = sce.io.anndata.fromAnnData(adata_updated)"
   ]
  },
  {
   "cell_type": "code",
   "execution_count": 33,
   "metadata": {},
   "outputs": [
    {
     "name": "stdout",
     "output_type": "stream",
     "text": [
      "\n",
      "        Class SingleCellExperiment with 36603 features and 37071 cells\n",
      "          mainExperimentName: None\n",
      "          assays: ['counts', 'X']\n",
      "          features: Index(['ID', 'Symbol', 'Type'], dtype='object')\n",
      "          cell metadata: Index(['Sample', 'Barcode', 'demux_type', 'assignment', 'pct_counts_gene'], dtype='object')\n",
      "          reduced dimensions: []\n",
      "          alternative experiments: None\n",
      "        \n"
     ]
    }
   ],
   "source": [
    "print(tse_2)"
   ]
  },
  {
   "cell_type": "markdown",
   "metadata": {},
   "source": [
    "#### attach experiment level metadata to SingleCellExperiment objects"
   ]
  },
  {
   "cell_type": "code",
   "execution_count": 34,
   "metadata": {},
   "outputs": [
    {
     "name": "stderr",
     "output_type": "stream",
     "text": [
      "\n",
      "INFO: Experiment already contained metadata, overwriting.\n"
     ]
    }
   ],
   "source": [
    "pydsdb.add_metadata(tse_2, sce_metadata)"
   ]
  },
  {
   "cell_type": "markdown",
   "metadata": {},
   "source": [
    "#### Create a variable which is a dictionary for alternative experiments"
   ]
  },
  {
   "cell_type": "code",
   "execution_count": 37,
   "metadata": {},
   "outputs": [],
   "source": [
    "tse_alt=[]\n",
    "tse_alt_names =[]"
   ]
  },
  {
   "cell_type": "code",
   "execution_count": 38,
   "metadata": {},
   "outputs": [],
   "source": [
    "for i, (k, v) in enumerate(adatas_updated.items()):\n",
    "    tse_alt.append(sce.io.anndata.fromAnnData(v))\n",
    "    tse_alt_names.append(k)"
   ]
  },
  {
   "cell_type": "code",
   "execution_count": 39,
   "metadata": {},
   "outputs": [
    {
     "data": {
      "text/plain": [
       "[<singlecellexperiment.SingleCellExperiment.SingleCellExperiment at 0x2aaafed643a0>,\n",
       " <singlecellexperiment.SingleCellExperiment.SingleCellExperiment at 0x2aaafed64d00>]"
      ]
     },
     "execution_count": 39,
     "metadata": {},
     "output_type": "execute_result"
    }
   ],
   "source": [
    "tse_alt"
   ]
  },
  {
   "cell_type": "code",
   "execution_count": 40,
   "metadata": {},
   "outputs": [
    {
     "data": {
      "text/plain": [
       "['crispr', 'hashing']"
      ]
     },
     "execution_count": 40,
     "metadata": {},
     "output_type": "execute_result"
    }
   ],
   "source": [
    "tse_alt_names"
   ]
  },
  {
   "cell_type": "markdown",
   "metadata": {},
   "source": [
    "#### Create a variable which is a dictionary for alternative experiments"
   ]
  },
  {
   "cell_type": "code",
   "execution_count": 41,
   "metadata": {},
   "outputs": [
    {
     "name": "stderr",
     "output_type": "stream",
     "text": [
      "\n",
      "INFO: Experiment already contained metadata, overwriting.\n",
      "\n",
      "INFO: Experiment already contained metadata, overwriting.\n"
     ]
    }
   ],
   "source": [
    "for i in range(len(tse_alt)):\n",
    "    pydsdb.add_metadata(tse_alt[i], sce_metadata)"
   ]
  },
  {
   "cell_type": "code",
   "execution_count": 42,
   "metadata": {},
   "outputs": [],
   "source": [
    "AltExps = dict(zip(tse_alt_names, tse_alt))   "
   ]
  },
  {
   "cell_type": "code",
   "execution_count": 43,
   "metadata": {},
   "outputs": [
    {
     "data": {
      "text/plain": [
       "{'crispr': <singlecellexperiment.SingleCellExperiment.SingleCellExperiment at 0x2aaafed643a0>,\n",
       " 'hashing': <singlecellexperiment.SingleCellExperiment.SingleCellExperiment at 0x2aaafed64d00>}"
      ]
     },
     "execution_count": 43,
     "metadata": {},
     "output_type": "execute_result"
    }
   ],
   "source": [
    "AltExps"
   ]
  },
  {
   "cell_type": "markdown",
   "metadata": {},
   "source": [
    "#### Creating singlecellexperiment object for upload preparation"
   ]
  },
  {
   "cell_type": "code",
   "execution_count": 46,
   "metadata": {},
   "outputs": [],
   "source": [
    "tse = sce.SingleCellExperiment(\n",
    "    assays={\"counts\": adata.layers['counts'].T}, rowData=adata.var, colData=adata.obs,\n",
    "    reducedDims={}, altExps=AltExps)"
   ]
  },
  {
   "cell_type": "code",
   "execution_count": 47,
   "metadata": {},
   "outputs": [
    {
     "name": "stdout",
     "output_type": "stream",
     "text": [
      "\n",
      "        Class SingleCellExperiment with 36603 features and 37071 cells\n",
      "          mainExperimentName: None\n",
      "          assays: ['counts']\n",
      "          features: Index(['ID', 'Symbol', 'Type'], dtype='object')\n",
      "          cell metadata: Index(['Sample', 'Barcode', 'demux_type', 'assignment', 'pct_counts_gene'], dtype='object')\n",
      "          reduced dimensions: []\n",
      "          alternative experiments: ['crispr', 'hashing']\n",
      "        \n"
     ]
    }
   ],
   "source": [
    "print(tse)"
   ]
  },
  {
   "cell_type": "markdown",
   "metadata": {},
   "source": [
    "#### attach experiment level metadata to a SingleCellExperiment object"
   ]
  },
  {
   "cell_type": "code",
   "execution_count": 48,
   "metadata": {},
   "outputs": [],
   "source": [
    "pydsdb.add_metadata(tse, sce_metadata)"
   ]
  },
  {
   "cell_type": "code",
   "execution_count": 49,
   "metadata": {},
   "outputs": [
    {
     "data": {
      "text/plain": [
       "{'.internal': ExperimentUpdateInfo(metadata='{\\n  \"$schema\": \"single_cell_experiment/v2.json\",\\n  \"is_child\": true,\\n  \"path\": \"\",\\n  \"single_cell_experiment\": {\\n    \"reduced_dimensions\": {\\n      \"resource\": {\\n        \"path\": \"\",\\n        \"type\": \"local\"\\n      }\\n    }\\n  },\\n  \"summarized_experiment\": {\\n    \"annotation\": {\\n      \"namespace\": [\\n        {\\n          \"id\": \"GRCh38\",\\n          \"type\": \"genome\"\\n        }\\n      ],\\n      \"organism\": [\\n        \"Homo sapiens\"\\n      ],\\n      \"type\": \"none\"\\n    },\\n    \"assays\": [\\n      {\\n        \"name\": \"pydsdb-dummy\",\\n        \"resource\": {\\n          \"path\": \"\",\\n          \"type\": \"local\"\\n        }\\n      }\\n    ],\\n    \"column_data\": {\\n      \"resource\": {\\n        \"path\": \"\",\\n        \"type\": \"local\"\\n      }\\n    },\\n    \"description\": \"Siavash test upload; this should be gone\",\\n    \"dimensions\": [\\n      0,\\n      0\\n    ],\\n    \"row_data\": {\\n      \"resource\": {\\n        \"path\": \"\",\\n        \"type\": \"local\"\\n      }\\n    },\\n    \"sources\": [\\n      {\\n        \"id\": \"Siavash-1234\",\\n        \"name\": \"Geo-ID\"\\n      }\\n    ],\\n    \"technology\": {\\n      \"name\": \"scRNA-seq\",\\n      \"terms\": [\\n        {\\n          \"id\": \"EFO:0008913\",\\n          \"source\": \"Experimental Factor Ontology\",\\n          \"version\": \"v3.39.1\"\\n        }\\n      ]\\n    },\\n    \"title\": \"Siavash test upload\"\\n  }\\n}', paths=[], assay_nums=None, alt_nums=None, update_ready=True)}"
      ]
     },
     "execution_count": 49,
     "metadata": {},
     "output_type": "execute_result"
    }
   ],
   "source": [
    "tse.metadata"
   ]
  },
  {
   "cell_type": "markdown",
   "metadata": {},
   "source": [
    "### Convert SingleCellExperiment object to MAE object"
   ]
  },
  {
   "cell_type": "markdown",
   "metadata": {},
   "source": [
    "#### Add new data to the MAE"
   ]
  },
  {
   "cell_type": "code",
   "execution_count": 58,
   "metadata": {},
   "outputs": [
    {
     "name": "stderr",
     "output_type": "stream",
     "text": [
      "/apps/user/gpy/envs/dev/GPy39/lib/python3.9/site-packages/multiassayexperiment/MultiAssayExperiment.py:112: FutureWarning: In a future version of pandas, a length 1 tuple will be returned when iterating over a groupby with a grouper equal to a list of length 1. Don't supply a list with a single grouper to avoid this warning.\n",
      "  for group, rows in agroups:\n"
     ]
    }
   ],
   "source": [
    "maeobj = mae.makeMAE({New_experiment: tse})"
   ]
  },
  {
   "cell_type": "code",
   "execution_count": 59,
   "metadata": {},
   "outputs": [],
   "source": [
    "# these two are needed if new experiment(s) added\n",
    "column_data = pd.concat([maeobj.colData, dm.colData])\n",
    "sample_map = pd.concat([maeobj.sampleMap, dm.sampleMap])"
   ]
  },
  {
   "cell_type": "code",
   "execution_count": 60,
   "metadata": {},
   "outputs": [
    {
     "name": "stderr",
     "output_type": "stream",
     "text": [
      "/apps/user/gpy/envs/dev/GPy39/lib/python3.9/site-packages/multiassayexperiment/MultiAssayExperiment.py:112: FutureWarning: In a future version of pandas, a length 1 tuple will be returned when iterating over a groupby with a grouper equal to a list of length 1. Don't supply a list with a single grouper to avoid this warning.\n",
      "  for group, rows in agroups:\n"
     ]
    }
   ],
   "source": [
    "new_mae = mae.MultiAssayExperiment(\n",
    "    {**dm.experiments,New_experiment: tse_2},\n",
    "    column_data,\n",
    "    sample_map,\n",
    "    dm.metadata\n",
    ")"
   ]
  },
  {
   "cell_type": "code",
   "execution_count": 61,
   "metadata": {},
   "outputs": [
    {
     "data": {
      "text/plain": [
       "{'.internal': {'metadata': '{\"path\": \"dataset.json\", \"dataset\": {\"experiments\": [{\"name\": \"main\", \"resource\": {\"type\": \"local\", \"path\": \"experiment-1/experiment.json\"}}], \"sample_mapping\": {\"resource\": {\"type\": \"local\", \"path\": \"sample_mapping/simple.csv.gz\"}}, \"column_data\": {\"resource\": {\"type\": \"local\", \"path\": \"sample_data/simple.csv.gz\"}}, \"title\": \"Recursion - Genome-wide Library Pilot 1\", \"description\": \"The goal of the experiment is to confirm the sgRNA amplification of the Recursion Genome-wide library. We have two conditions to compare: (1) DLD-1-Cas9 cells were infected by sub-library 2 for 10 days and either directly loaded on the 10x channel (lenti group). 2) the same cells were infected by sub-library 2 for 6 days followed by Cas9 RNP transfection. The cells were then cultured for 4 more days and loaded on 10x 4 days post transfection.\", \"authors\": [\"melocars\"], \"creation_date\": \"2022-12-16T17:57:54+00:00\"}, \"$schema\": \"dataset/v2.json\"}',\n",
       "  'paths': ['dataset.json',\n",
       "   'sample_data/simple.csv.gz',\n",
       "   'sample_mapping/simple.csv.gz'],\n",
       "  'column_data':                         has.crispr  has.hashing\n",
       "  SAM24424070_Replicate1        True         True\n",
       "  SAM24424071_Replicate1        True         True,\n",
       "  'sample_mapping':       assay                 primary                                    colname\n",
       "  0      main  SAM24424070_Replicate1  SAM24424070_Replicate1-AAACCCAAGACGTCGA-1\n",
       "  1      main  SAM24424070_Replicate1  SAM24424070_Replicate1-AAACCCAAGAGATTCA-1\n",
       "  2      main  SAM24424070_Replicate1  SAM24424070_Replicate1-AAACCCAAGCCAGACA-1\n",
       "  3      main  SAM24424070_Replicate1  SAM24424070_Replicate1-AAACCCAAGCGATGCA-1\n",
       "  4      main  SAM24424070_Replicate1  SAM24424070_Replicate1-AAACCCAAGGATATGT-1\n",
       "  ...     ...                     ...                                        ...\n",
       "  37066  main  SAM24424071_Replicate1  SAM24424071_Replicate1-TTTGTTGTCGCCGAAC-1\n",
       "  37067  main  SAM24424071_Replicate1  SAM24424071_Replicate1-TTTGTTGTCGCGAAGA-1\n",
       "  37068  main  SAM24424071_Replicate1  SAM24424071_Replicate1-TTTGTTGTCGCTGTCT-1\n",
       "  37069  main  SAM24424071_Replicate1  SAM24424071_Replicate1-TTTGTTGTCGTCACCT-1\n",
       "  37070  main  SAM24424071_Replicate1  SAM24424071_Replicate1-TTTGTTGTCTGGGTCG-1\n",
       "  \n",
       "  [37071 rows x 3 columns],\n",
       "  'exp_nums': {'main': 1},\n",
       "  'permissions_info': {'owners': ['melocars'],\n",
       "   'read_access': 'public',\n",
       "   'scope': 'project',\n",
       "   'write_access': 'owners'},\n",
       "  'update_ready': True}}"
      ]
     },
     "execution_count": 61,
     "metadata": {},
     "output_type": "execute_result"
    }
   ],
   "source": [
    "new_mae.metadata"
   ]
  },
  {
   "cell_type": "markdown",
   "metadata": {},
   "source": [
    "## 5. Upload the data"
   ]
  },
  {
   "cell_type": "markdown",
   "metadata": {},
   "source": [
    "### Initialize the upload"
   ]
  },
  {
   "cell_type": "code",
   "execution_count": 62,
   "metadata": {},
   "outputs": [
    {
     "ename": "ValidationError",
     "evalue": "1 validation error for ColumnsField\nvalues -> 3\n  str type expected (type=type_error.str)",
     "output_type": "error",
     "traceback": [
      "\u001b[0;31m---------------------------------------------------------------------------\u001b[0m",
      "\u001b[0;31mValidationError\u001b[0m                           Traceback (most recent call last)",
      "Cell \u001b[0;32mIn[62], line 1\u001b[0m\n\u001b[0;32m----> 1\u001b[0m upload \u001b[38;5;241m=\u001b[39m \u001b[43mpydsdb\u001b[49m\u001b[38;5;241;43m.\u001b[39;49m\u001b[43mUpload\u001b[49m\u001b[43m(\u001b[49m\u001b[43mnew_mae\u001b[49m\u001b[43m)\u001b[49m\n",
      "File \u001b[0;32m/apps/user/gpy/envs/dev/GPy39/lib/python3.9/site-packages/pydsdb/upload/upload.py:79\u001b[0m, in \u001b[0;36mUpload.__init__\u001b[0;34m(self, dataset, staging_dir, descriptor, file_size_limit, overwrite)\u001b[0m\n\u001b[1;32m     77\u001b[0m         \u001b[38;5;28mself\u001b[39m\u001b[38;5;241m.\u001b[39m_staging_dir \u001b[38;5;241m=\u001b[39m staging_dir\n\u001b[1;32m     78\u001b[0m \u001b[38;5;28;01melse\u001b[39;00m:\n\u001b[0;32m---> 79\u001b[0m     \u001b[38;5;28mself\u001b[39m\u001b[38;5;241m.\u001b[39m_staging_dir \u001b[38;5;241m=\u001b[39m \u001b[43mDatasetStager\u001b[49m\u001b[43m(\u001b[49m\n\u001b[1;32m     80\u001b[0m \u001b[43m        \u001b[49m\u001b[43mdescriptor\u001b[49m\u001b[43m,\u001b[49m\u001b[43m \u001b[49m\u001b[43mfile_size_limit\u001b[49m\u001b[43m,\u001b[49m\u001b[43m \u001b[49m\u001b[43moverwrite\u001b[49m\u001b[43m,\u001b[49m\u001b[43m \u001b[49m\u001b[43mstaging_dir\u001b[49m\n\u001b[1;32m     81\u001b[0m \u001b[43m    \u001b[49m\u001b[43m)\u001b[49m\u001b[38;5;241;43m.\u001b[39;49m\u001b[43mstage\u001b[49m\u001b[43m(\u001b[49m\u001b[43mdataset\u001b[49m\u001b[43m)\u001b[49m\n\u001b[1;32m     83\u001b[0m \u001b[38;5;28mself\u001b[39m\u001b[38;5;241m.\u001b[39m_permissions_info: Optional[PermissionsInfo] \u001b[38;5;241m=\u001b[39m \u001b[38;5;28;01mNone\u001b[39;00m\n\u001b[1;32m     84\u001b[0m \u001b[38;5;28;01mif\u001b[39;00m (\n\u001b[1;32m     85\u001b[0m     dataset \u001b[38;5;129;01mis\u001b[39;00m \u001b[38;5;129;01mnot\u001b[39;00m \u001b[38;5;28;01mNone\u001b[39;00m\n\u001b[1;32m     86\u001b[0m     \u001b[38;5;129;01mand\u001b[39;00m dataset\u001b[38;5;241m.\u001b[39mmetadata \u001b[38;5;129;01mis\u001b[39;00m \u001b[38;5;129;01mnot\u001b[39;00m \u001b[38;5;28;01mNone\u001b[39;00m  \u001b[38;5;66;03m# type: ignore\u001b[39;00m\n\u001b[1;32m     87\u001b[0m     \u001b[38;5;129;01mand\u001b[39;00m INTERNAL \u001b[38;5;129;01min\u001b[39;00m dataset\u001b[38;5;241m.\u001b[39mmetadata  \u001b[38;5;66;03m# type: ignore\u001b[39;00m\n\u001b[1;32m     88\u001b[0m ):\n",
      "File \u001b[0;32m/apps/user/gpy/envs/dev/GPy39/lib/python3.9/site-packages/pydsdb/upload/dataset.py:306\u001b[0m, in \u001b[0;36mDatasetStager.stage\u001b[0;34m(self, dataset)\u001b[0m\n\u001b[1;32m    303\u001b[0m old_paths \u001b[38;5;241m=\u001b[39m update_info\u001b[38;5;241m.\u001b[39mpaths\n\u001b[1;32m    304\u001b[0m metadata \u001b[38;5;241m=\u001b[39m loads(update_info\u001b[38;5;241m.\u001b[39mmetadata)\n\u001b[0;32m--> 306\u001b[0m dataset_resources, exp_old_paths \u001b[38;5;241m=\u001b[39m \u001b[38;5;28;43mself\u001b[39;49m\u001b[38;5;241;43m.\u001b[39;49m\u001b[43m_stage_dataset_components\u001b[49m\u001b[43m(\u001b[49m\n\u001b[1;32m    307\u001b[0m \u001b[43m    \u001b[49m\u001b[43mdataset\u001b[49m\u001b[43m,\u001b[49m\n\u001b[1;32m    308\u001b[0m \u001b[43m    \u001b[49m\u001b[43mupdate_info\u001b[49m\u001b[38;5;241;43m.\u001b[39;49m\u001b[43mcolumn_data\u001b[49m\u001b[43m,\u001b[49m\n\u001b[1;32m    309\u001b[0m \u001b[43m    \u001b[49m\u001b[43mupdate_info\u001b[49m\u001b[38;5;241;43m.\u001b[39;49m\u001b[43msample_mapping\u001b[49m\u001b[43m,\u001b[49m\n\u001b[1;32m    310\u001b[0m \u001b[43m    \u001b[49m\u001b[43mupdate_info\u001b[49m\u001b[38;5;241;43m.\u001b[39;49m\u001b[43mexp_nums\u001b[49m\u001b[43m,\u001b[49m\n\u001b[1;32m    311\u001b[0m \u001b[43m\u001b[49m\u001b[43m)\u001b[49m\n\u001b[1;32m    313\u001b[0m old_paths\u001b[38;5;241m.\u001b[39mextend(exp_old_paths)\n\u001b[1;32m    315\u001b[0m metadata[\u001b[38;5;124m\"\u001b[39m\u001b[38;5;124mdataset\u001b[39m\u001b[38;5;124m\"\u001b[39m] \u001b[38;5;241m=\u001b[39m \u001b[38;5;28mself\u001b[39m\u001b[38;5;241m.\u001b[39m_set_dataset_fields(\n\u001b[1;32m    316\u001b[0m     metadata[\u001b[38;5;124m\"\u001b[39m\u001b[38;5;124mdataset\u001b[39m\u001b[38;5;124m\"\u001b[39m], dataset_resources\n\u001b[1;32m    317\u001b[0m )\n",
      "File \u001b[0;32m/apps/user/gpy/envs/dev/GPy39/lib/python3.9/site-packages/pydsdb/upload/dataset.py:180\u001b[0m, in \u001b[0;36mDatasetStager._stage_dataset_components\u001b[0;34m(self, dataset, orig_column_data, orig_sample_mapping, exp_nums)\u001b[0m\n\u001b[1;32m    176\u001b[0m     alt_res, exp_old_paths \u001b[38;5;241m=\u001b[39m SummarizedExperimentStager(\n\u001b[1;32m    177\u001b[0m         \u001b[38;5;241m*\u001b[39mexp_args\n\u001b[1;32m    178\u001b[0m     )\u001b[38;5;241m.\u001b[39mstage(exp, name)\n\u001b[1;32m    179\u001b[0m \u001b[38;5;28;01melse\u001b[39;00m:\n\u001b[0;32m--> 180\u001b[0m     alt_res, exp_old_paths \u001b[38;5;241m=\u001b[39m \u001b[43mSingleCellExperimentStager\u001b[49m\u001b[43m(\u001b[49m\n\u001b[1;32m    181\u001b[0m \u001b[43m        \u001b[49m\u001b[38;5;241;43m*\u001b[39;49m\u001b[43mexp_args\u001b[49m\n\u001b[1;32m    182\u001b[0m \u001b[43m    \u001b[49m\u001b[43m)\u001b[49m\u001b[38;5;241;43m.\u001b[39;49m\u001b[43mstage\u001b[49m\u001b[43m(\u001b[49m\u001b[43mexp\u001b[49m\u001b[43m,\u001b[49m\u001b[43m \u001b[49m\u001b[43mname\u001b[49m\u001b[43m)\u001b[49m\n\u001b[1;32m    184\u001b[0m exps\u001b[38;5;241m.\u001b[39mappend(alt_res)\n\u001b[1;32m    185\u001b[0m exps_old_paths\u001b[38;5;241m.\u001b[39mextend(exp_old_paths)\n",
      "File \u001b[0;32m/apps/user/gpy/envs/dev/GPy39/lib/python3.9/site-packages/pydsdb/upload/experiments/single_cell_experiment.py:443\u001b[0m, in \u001b[0;36mSingleCellExperimentStager.stage\u001b[0;34m(self, experiment, name)\u001b[0m\n\u001b[1;32m    432\u001b[0m     \u001b[38;5;28;01mdel\u001b[39;00m experiment\u001b[38;5;241m.\u001b[39mmetadata[\u001b[38;5;124m\"\u001b[39m\u001b[38;5;124mspatial\u001b[39m\u001b[38;5;124m\"\u001b[39m]  \u001b[38;5;66;03m# type: ignore\u001b[39;00m\n\u001b[1;32m    434\u001b[0m     metadata[\u001b[38;5;124m\"\u001b[39m\u001b[38;5;124mspatial_experiment\u001b[39m\u001b[38;5;124m\"\u001b[39m] \u001b[38;5;241m=\u001b[39m \u001b[38;5;28mself\u001b[39m\u001b[38;5;241m.\u001b[39m_update_spe_field(\n\u001b[1;32m    435\u001b[0m         metadata[\u001b[38;5;124m\"\u001b[39m\u001b[38;5;124mspatial_experiment\u001b[39m\u001b[38;5;124m\"\u001b[39m],\n\u001b[1;32m    436\u001b[0m         \u001b[38;5;28mself\u001b[39m\u001b[38;5;241m.\u001b[39m_stage_spe_resources(\n\u001b[1;32m    437\u001b[0m             experiment, coordinates, image_data  \u001b[38;5;66;03m# type: ignore\u001b[39;00m\n\u001b[1;32m    438\u001b[0m         ),\n\u001b[1;32m    439\u001b[0m     )\n\u001b[1;32m    441\u001b[0m metadata[\u001b[38;5;124m\"\u001b[39m\u001b[38;5;124msummarized_experiment\u001b[39m\u001b[38;5;124m\"\u001b[39m] \u001b[38;5;241m=\u001b[39m \u001b[38;5;28mself\u001b[39m\u001b[38;5;241m.\u001b[39m_update_se_field(\n\u001b[1;32m    442\u001b[0m     metadata[\u001b[38;5;124m\"\u001b[39m\u001b[38;5;124msummarized_experiment\u001b[39m\u001b[38;5;124m\"\u001b[39m],\n\u001b[0;32m--> 443\u001b[0m     \u001b[38;5;28;43mself\u001b[39;49m\u001b[38;5;241;43m.\u001b[39;49m\u001b[43m_stage_se_resources\u001b[49m\u001b[43m(\u001b[49m\u001b[43mexperiment\u001b[49m\u001b[43m,\u001b[49m\u001b[43m \u001b[49m\u001b[43mupdate_info\u001b[49m\u001b[38;5;241;43m.\u001b[39;49m\u001b[43massay_nums\u001b[49m\u001b[43m)\u001b[49m,\n\u001b[1;32m    444\u001b[0m     experiment\u001b[38;5;241m.\u001b[39massay(experiment\u001b[38;5;241m.\u001b[39massayNames[\u001b[38;5;241m0\u001b[39m])\u001b[38;5;241m.\u001b[39mshape,  \u001b[38;5;66;03m# type: ignore\u001b[39;00m\n\u001b[1;32m    445\u001b[0m )\n\u001b[1;32m    447\u001b[0m sce_resources, alt_exps_old_paths \u001b[38;5;241m=\u001b[39m \u001b[38;5;28mself\u001b[39m\u001b[38;5;241m.\u001b[39m_stage_sce_resources(\n\u001b[1;32m    448\u001b[0m     experiment, update_info\u001b[38;5;241m.\u001b[39malt_nums\n\u001b[1;32m    449\u001b[0m )\n\u001b[1;32m    450\u001b[0m update_info\u001b[38;5;241m.\u001b[39mpaths\u001b[38;5;241m.\u001b[39mextend(alt_exps_old_paths)\n",
      "File \u001b[0;32m/apps/user/gpy/envs/dev/GPy39/lib/python3.9/site-packages/pydsdb/upload/experiments/summarized_experiment.py:123\u001b[0m, in \u001b[0;36mSummarizedExperimentStager._stage_se_resources\u001b[0;34m(self, experiment, assay_nums)\u001b[0m\n\u001b[1;32m    117\u001b[0m     \u001b[38;5;28;01mraise\u001b[39;00m PYDSDBError(\n\u001b[1;32m    118\u001b[0m         \u001b[38;5;124mf\u001b[39m\u001b[38;5;124m\"\u001b[39m\u001b[38;5;124mFor experiment: \u001b[39m\u001b[38;5;124m'\u001b[39m\u001b[38;5;132;01m{\u001b[39;00m\u001b[38;5;28mself\u001b[39m\u001b[38;5;241m.\u001b[39m_descriptor\u001b[38;5;132;01m}\u001b[39;00m\u001b[38;5;124m'\u001b[39m\u001b[38;5;124m column data is \u001b[39m\u001b[38;5;124m\"\u001b[39m\n\u001b[1;32m    119\u001b[0m         \u001b[38;5;124m\"\u001b[39m\u001b[38;5;124mrequired for staging.\u001b[39m\u001b[38;5;124m\"\u001b[39m\n\u001b[1;32m    120\u001b[0m     )\n\u001b[1;32m    122\u001b[0m \u001b[38;5;28;01mif\u001b[39;00m \u001b[38;5;28misinstance\u001b[39m(experiment\u001b[38;5;241m.\u001b[39mcolData, DataFrame):\n\u001b[0;32m--> 123\u001b[0m     column_data \u001b[38;5;241m=\u001b[39m \u001b[43mCSVDataFrameStager\u001b[49m\u001b[43m(\u001b[49m\n\u001b[1;32m    124\u001b[0m \u001b[43m        \u001b[49m\u001b[38;5;124;43mf\u001b[39;49m\u001b[38;5;124;43m\"\u001b[39;49m\u001b[38;5;132;43;01m{\u001b[39;49;00m\u001b[38;5;28;43mself\u001b[39;49m\u001b[38;5;241;43m.\u001b[39;49m\u001b[43m_descriptor\u001b[49m\u001b[38;5;132;43;01m}\u001b[39;49;00m\u001b[38;5;124;43m -> Column Data\u001b[39;49m\u001b[38;5;124;43m\"\u001b[39;49m\u001b[43m,\u001b[49m\n\u001b[1;32m    125\u001b[0m \u001b[43m        \u001b[49m\u001b[38;5;28;43mself\u001b[39;49m\u001b[38;5;241;43m.\u001b[39;49m\u001b[43m_staging_dir\u001b[49m\u001b[38;5;241;43m.\u001b[39;49m\u001b[43mjoinpath\u001b[49m\u001b[43m(\u001b[49m\u001b[38;5;124;43m\"\u001b[39;49m\u001b[38;5;124;43mcoldata\u001b[39;49m\u001b[38;5;124;43m\"\u001b[39;49m\u001b[43m)\u001b[49m\u001b[43m,\u001b[49m\n\u001b[1;32m    126\u001b[0m \u001b[43m        \u001b[49m\u001b[38;5;28;43mself\u001b[39;49m\u001b[38;5;241;43m.\u001b[39;49m\u001b[43m_dataset_dir\u001b[49m\u001b[43m,\u001b[49m\n\u001b[1;32m    127\u001b[0m \u001b[43m        \u001b[49m\u001b[38;5;28;43mself\u001b[39;49m\u001b[38;5;241;43m.\u001b[39;49m\u001b[43m_file_size_limit\u001b[49m\u001b[43m,\u001b[49m\n\u001b[1;32m    128\u001b[0m \u001b[43m    \u001b[49m\u001b[43m)\u001b[49m\u001b[38;5;241;43m.\u001b[39;49m\u001b[43mstage\u001b[49m\u001b[43m(\u001b[49m\u001b[43mexperiment\u001b[49m\u001b[38;5;241;43m.\u001b[39;49m\u001b[43mcolData\u001b[49m\u001b[43m)\u001b[49m\n\u001b[1;32m    129\u001b[0m \u001b[38;5;28;01melse\u001b[39;00m:\n\u001b[1;32m    130\u001b[0m     \u001b[38;5;28;01mraise\u001b[39;00m PYDSDBError(\n\u001b[1;32m    131\u001b[0m         \u001b[38;5;124m\"\u001b[39m\u001b[38;5;124mStaging does not currently support \u001b[39m\u001b[38;5;124m'\u001b[39m\u001b[38;5;124mBiocFrame\u001b[39m\u001b[38;5;124m'\u001b[39m\u001b[38;5;124m in \u001b[39m\u001b[38;5;124m\"\u001b[39m\n\u001b[1;32m    132\u001b[0m         \u001b[38;5;124mf\u001b[39m\u001b[38;5;124m\"\u001b[39m\u001b[38;5;124mexperiment: \u001b[39m\u001b[38;5;124m'\u001b[39m\u001b[38;5;132;01m{\u001b[39;00m\u001b[38;5;28mself\u001b[39m\u001b[38;5;241m.\u001b[39m_descriptor\u001b[38;5;132;01m}\u001b[39;00m\u001b[38;5;124m -> Column Data\u001b[39m\u001b[38;5;124m'\u001b[39m\u001b[38;5;124m.\u001b[39m\u001b[38;5;124m\"\u001b[39m\n\u001b[1;32m    133\u001b[0m     )\n",
      "File \u001b[0;32m/apps/user/gpy/envs/dev/GPy39/lib/python3.9/site-packages/pydsdb/upload/resources/csv_data_frame.py:193\u001b[0m, in \u001b[0;36mCSVDataFrameStager.stage\u001b[0;34m(self, data, name)\u001b[0m\n\u001b[1;32m    178\u001b[0m \u001b[38;5;28;01mdef\u001b[39;00m \u001b[38;5;21mstage\u001b[39m(\u001b[38;5;28mself\u001b[39m, data: DataFrame, name: Optional[\u001b[38;5;28mstr\u001b[39m] \u001b[38;5;241m=\u001b[39m \u001b[38;5;28;01mNone\u001b[39;00m) \u001b[38;5;241m-\u001b[39m\u001b[38;5;241m>\u001b[39m Resource:\n\u001b[1;32m    179\u001b[0m \u001b[38;5;250m    \u001b[39m\u001b[38;5;124;03m\"\"\"Stage a CSV `DataFrame`.\u001b[39;00m\n\u001b[1;32m    180\u001b[0m \n\u001b[1;32m    181\u001b[0m \u001b[38;5;124;03m    Parameters\u001b[39;00m\n\u001b[0;32m   (...)\u001b[0m\n\u001b[1;32m    191\u001b[0m \u001b[38;5;124;03m        A `Resource` for the staged `DataFrame`.\u001b[39;00m\n\u001b[1;32m    192\u001b[0m \u001b[38;5;124;03m    \"\"\"\u001b[39;00m\n\u001b[0;32m--> 193\u001b[0m     column_resources \u001b[38;5;241m=\u001b[39m \u001b[38;5;28;43mself\u001b[39;49m\u001b[38;5;241;43m.\u001b[39;49m\u001b[43m_make_column_resources\u001b[49m\u001b[43m(\u001b[49m\u001b[43mdata\u001b[49m\u001b[43m)\u001b[49m\n\u001b[1;32m    195\u001b[0m     resource_path, relative_path, metadata_path \u001b[38;5;241m=\u001b[39m \u001b[38;5;28mself\u001b[39m\u001b[38;5;241m.\u001b[39m_make_paths(\n\u001b[1;32m    196\u001b[0m         name, \u001b[38;5;124m\"\u001b[39m\u001b[38;5;124msimple\u001b[39m\u001b[38;5;124m\"\u001b[39m, \u001b[38;5;124m\"\u001b[39m\u001b[38;5;124m.csv.gz\u001b[39m\u001b[38;5;124m\"\u001b[39m\n\u001b[1;32m    197\u001b[0m     )\n\u001b[1;32m    199\u001b[0m     write_date_frame_to_csv(data, resource_path)\n",
      "File \u001b[0;32m/apps/user/gpy/envs/dev/GPy39/lib/python3.9/site-packages/pydsdb/upload/resources/csv_data_frame.py:149\u001b[0m, in \u001b[0;36mCSVDataFrameStager._make_column_resources\u001b[0;34m(self, data)\u001b[0m\n\u001b[1;32m    139\u001b[0m     column_resources\u001b[38;5;241m.\u001b[39mappend(\n\u001b[1;32m    140\u001b[0m         ColumnsField(\n\u001b[1;32m    141\u001b[0m             name\u001b[38;5;241m=\u001b[39mname,\n\u001b[1;32m    142\u001b[0m             \u001b[38;5;28mtype\u001b[39m\u001b[38;5;241m=\u001b[39mColumnTypes\u001b[38;5;241m.\u001b[39mINTEGER,\n\u001b[1;32m    143\u001b[0m         )\n\u001b[1;32m    144\u001b[0m     )\n\u001b[1;32m    145\u001b[0m \u001b[38;5;28;01melif\u001b[39;00m \u001b[38;5;28many\u001b[39m((\u001b[38;5;28misinstance\u001b[39m(value, \u001b[38;5;28mstr\u001b[39m) \u001b[38;5;28;01mfor\u001b[39;00m value \u001b[38;5;129;01min\u001b[39;00m values)):\n\u001b[1;32m    146\u001b[0m     \u001b[38;5;66;03m# TODO: come up with a better solution specific to columns\u001b[39;00m\n\u001b[1;32m    147\u001b[0m     \u001b[38;5;66;03m# with NaNs and str values\u001b[39;00m\n\u001b[1;32m    148\u001b[0m     column_resources\u001b[38;5;241m.\u001b[39mappend(\n\u001b[0;32m--> 149\u001b[0m         \u001b[43mColumnsField\u001b[49m\u001b[43m(\u001b[49m\n\u001b[1;32m    150\u001b[0m \u001b[43m            \u001b[49m\u001b[43mname\u001b[49m\u001b[38;5;241;43m=\u001b[39;49m\u001b[43mname\u001b[49m\u001b[43m,\u001b[49m\n\u001b[1;32m    151\u001b[0m \u001b[43m            \u001b[49m\u001b[38;5;28;43mtype\u001b[39;49m\u001b[38;5;241;43m=\u001b[39;49m\u001b[43mColumnTypes\u001b[49m\u001b[38;5;241;43m.\u001b[39;49m\u001b[43mSTRING\u001b[49m\u001b[43m,\u001b[49m\n\u001b[1;32m    152\u001b[0m \u001b[43m            \u001b[49m\u001b[43mNA_is_missing\u001b[49m\u001b[38;5;241;43m=\u001b[39;49m\u001b[38;5;28;43;01mNone\u001b[39;49;00m\u001b[43m \u001b[49m\u001b[38;5;129;43;01min\u001b[39;49;00m\u001b[43m \u001b[49m\u001b[43mvalues\u001b[49m\u001b[43m,\u001b[49m\u001b[43m  \u001b[49m\u001b[38;5;66;43;03m# type: ignore\u001b[39;49;00m\n\u001b[1;32m    153\u001b[0m \u001b[43m            \u001b[49m\u001b[43mvalues\u001b[49m\u001b[38;5;241;43m=\u001b[39;49m\u001b[38;5;28;43mlist\u001b[39;49m\u001b[43m(\u001b[49m\u001b[38;5;28;43mset\u001b[39;49m\u001b[43m(\u001b[49m\u001b[43mvalues\u001b[49m\u001b[43m)\u001b[49m\u001b[43m)\u001b[49m\u001b[43m[\u001b[49m\u001b[43m:\u001b[49m\u001b[38;5;241;43m100\u001b[39;49m\u001b[43m]\u001b[49m\u001b[43m,\u001b[49m\n\u001b[1;32m    154\u001b[0m \u001b[43m        \u001b[49m\u001b[43m)\u001b[49m\n\u001b[1;32m    155\u001b[0m     )\n\u001b[1;32m    156\u001b[0m \u001b[38;5;28;01melse\u001b[39;00m:\n\u001b[1;32m    157\u001b[0m     unique_types \u001b[38;5;241m=\u001b[39m \u001b[38;5;28mset\u001b[39m(\u001b[38;5;28mtype\u001b[39m(value) \u001b[38;5;28;01mfor\u001b[39;00m value \u001b[38;5;129;01min\u001b[39;00m values)\n",
      "File \u001b[0;32m/apps/user/gpy/envs/dev/GPy39/lib/python3.9/site-packages/pydantic/main.py:342\u001b[0m, in \u001b[0;36mpydantic.main.BaseModel.__init__\u001b[0;34m()\u001b[0m\n",
      "\u001b[0;31mValidationError\u001b[0m: 1 validation error for ColumnsField\nvalues -> 3\n  str type expected (type=type_error.str)"
     ]
    }
   ],
   "source": [
    "upload = pydsdb.Upload(new_mae)"
   ]
  },
  {
   "cell_type": "markdown",
   "metadata": {},
   "source": [
    "#### representations of the dataset in a staging directory. If you want to explore or finalize the data and metadata files that were generated"
   ]
  },
  {
   "cell_type": "code",
   "execution_count": 42,
   "metadata": {},
   "outputs": [
    {
     "data": {
      "text/plain": [
       "PosixPath('/local/67024469/tmpd3lt7azn')"
      ]
     },
     "execution_count": 42,
     "metadata": {},
     "output_type": "execute_result"
    }
   ],
   "source": [
    "upload.staging_dir"
   ]
  },
  {
   "cell_type": "markdown",
   "metadata": {},
   "source": [
    "### Set Permissions"
   ]
  },
  {
   "cell_type": "code",
   "execution_count": 43,
   "metadata": {},
   "outputs": [
    {
     "name": "stdout",
     "output_type": "stream",
     "text": [
      "owners=['ghaffars'] read_access=<Accessors.PUBLIC: 'public'> scope=<Scopes.PROJECT: 'project'> viewers=None write_access=<Accessors.OWNERS: 'owners'>\n"
     ]
    }
   ],
   "source": [
    "permissions = pydsdb.create_permissions_info()\n",
    "print(permissions)"
   ]
  },
  {
   "cell_type": "markdown",
   "metadata": {},
   "source": [
    "#### authenticating interactively: Please insert your password"
   ]
  },
  {
   "cell_type": "code",
   "execution_count": 44,
   "metadata": {},
   "outputs": [
    {
     "name": "stdout",
     "output_type": "stream",
     "text": [
      "Authenticating User: 'ghaffars'\n"
     ]
    },
    {
     "name": "stdin",
     "output_type": "stream",
     "text": [
      " ········\n"
     ]
    },
    {
     "name": "stdout",
     "output_type": "stream",
     "text": [
      "Successfully authenticated.\n"
     ]
    }
   ],
   "source": [
    "auth = GPAuth()"
   ]
  },
  {
   "cell_type": "markdown",
   "metadata": {},
   "source": [
    "### Update the existing dataset"
   ]
  },
  {
   "cell_type": "code",
   "execution_count": 45,
   "metadata": {},
   "outputs": [
    {
     "name": "stdout",
     "output_type": "stream",
     "text": [
      "09:37:46 -> Retrieving project: test-DS000004232@NUM-15 metadata.\n",
      "09:37:48 -> Metadata cached.\n",
      "09:37:48 -> Collating project resources.\n",
      "09:37:48 -> Validating JSON metadata.\n",
      "09:37:49 -> Attempting upload.\n"
     ]
    },
    {
     "name": "stderr",
     "output_type": "stream",
     "text": [
      " 48%|███████████████████▎                    | 26/54 [00:02<00:03,  8.79file/s]\n"
     ]
    },
    {
     "name": "stdout",
     "output_type": "stream",
     "text": [
      "Clearing upload info.\n",
      "09:38:13 -> Upload completed.\n",
      "Processing\n",
      "Processing\n",
      "Upload successful, your DSID is 'test-DS000004232' and version is: '16'. Also written to 'upload_info.json' in staging dir.\n"
     ]
    }
   ],
   "source": [
    "dsid, version = upload.submit(auth,permissions, 'test-DS000004232', dev=True, test=True)"
   ]
  },
  {
   "cell_type": "code",
   "execution_count": 46,
   "metadata": {},
   "outputs": [
    {
     "data": {
      "text/plain": [
       "('test-DS000004232', '16')"
      ]
     },
     "execution_count": 46,
     "metadata": {},
     "output_type": "execute_result"
    }
   ],
   "source": [
    "dsid, version"
   ]
  },
  {
   "cell_type": "markdown",
   "metadata": {},
   "source": [
    "## 6. Retrieve back the dataset for checking purpose"
   ]
  },
  {
   "cell_type": "code",
   "execution_count": 47,
   "metadata": {},
   "outputs": [
    {
     "name": "stdout",
     "output_type": "stream",
     "text": [
      "\n",
      "09:39:57 -> Collating dataset: 'test-DS000004232' metadata.\n",
      "\n",
      "09:39:59 -> Reading: 'test-DS000004232'.\n"
     ]
    },
    {
     "name": "stderr",
     "output_type": "stream",
     "text": [
      "Column Data -> Data Frame: 100%|████████████████████████████████████████| 70.0/70.0 [00:00<00:00, 15.1kB/s]\n"
     ]
    },
    {
     "name": "stdout",
     "output_type": "stream",
     "text": [
      "\n",
      "09:40:00 -> Reading: 'test-DS000004232 -> Experiment: main'.\n",
      "\n",
      "09:40:00 -> Reading: 'test-DS000004232 -> Experiment: main -> Alt. Exp.: crispr'.\n"
     ]
    },
    {
     "name": "stderr",
     "output_type": "stream",
     "text": [
      "Alt. Exp.: crispr -> Reduced Dimensions -> NDArrays: 100%|████████████████████████████████████████| 800/800 [00:00<00:00, 220kB/s]\n",
      "Alt. Exp.: crispr -> Assay: counts -> Sparse Matrix: 100%|████████████████████████████████████████| 4.64M/4.64M [00:01<00:00, 3.15MB/s]\n",
      "Alt. Exp.: crispr -> Column Data -> Data Frame: 100%|████████████████████████████████████████| 164k/164k [00:00<00:00, 1.57MB/s]\n",
      "Alt. Exp.: crispr -> Row Data -> Data Frame: 100%|████████████████████████████████████████| 51.8k/51.8k [00:00<00:00, 11.7MB/s]\n",
      "Experiment: main -> Reduced Dimensions -> NDArrays: 100%|████████████████████████████████████████| 800/800 [00:00<00:00, 225kB/s]\n",
      "Experiment: main -> Assay: counts -> Sparse Matrix: 100%|████████████████████████████████████████| 303M/303M [00:57<00:00, 5.24MB/s] \n",
      "Experiment: main -> Column Data -> Data Frame: 100%|████████████████████████████████████████| 1.42M/1.42M [00:00<00:00, 9.09MB/s]\n",
      "Experiment: main -> Row Data -> Data Frame: 100%|████████████████████████████████████████| 992k/992k [00:00<00:00, 9.38MB/s]\n"
     ]
    },
    {
     "name": "stdout",
     "output_type": "stream",
     "text": [
      "\n",
      "09:41:05 -> Reading: 'test-DS000004232 -> Experiment: new'.\n"
     ]
    },
    {
     "name": "stderr",
     "output_type": "stream",
     "text": [
      "Experiment: new -> Reduced Dimensions -> NDArrays: 100%|████████████████████████████████████████| 800/800 [00:00<00:00, 278kB/s]\n",
      "Experiment: new -> Assay: counts -> Sparse Matrix: 100%|████████████████████████████████████████| 303M/303M [00:38<00:00, 7.86MB/s] \n",
      "Experiment: new -> Assay: X -> Sparse Matrix: 100%|████████████████████████████████████████| 303M/303M [00:24<00:00, 12.2MB/s] \n",
      "Experiment: new -> Column Data -> Data Frame: 100%|████████████████████████████████████████| 1.77M/1.77M [00:00<00:00, 3.32MB/s]\n",
      "Experiment: new -> Row Data -> Data Frame: 100%|████████████████████████████████████████| 992k/992k [00:00<00:00, 6.36MB/s]\n",
      "Sample Mapping: 100%|████████████████████████████████████████| 525k/525k [00:00<00:00, 9.13MB/s]\n",
      "/apps/user/gpy/envs/dev/GPy39/lib/python3.9/site-packages/multiassayexperiment/MultiAssayExperiment.py:112: FutureWarning: In a future version of pandas, a length 1 tuple will be returned when iterating over a groupby with a grouper equal to a list of length 1. Don't supply a list with a single grouper to avoid this warning.\n",
      "  for group, rows in agroups:\n"
     ]
    }
   ],
   "source": [
    "dss = pydsdb.get_dataset(dsid, dev=True, version='16')"
   ]
  },
  {
   "cell_type": "code",
   "execution_count": 48,
   "metadata": {},
   "outputs": [
    {
     "data": {
      "text/plain": [
       "{'.internal': {'metadata': '{\"dataset\": {\"authors\": [\"SG\"], \"column_data\": {\"resource\": {\"path\": \"column_data/data_frame.csv.gz\", \"type\": \"local\"}}, \"creation_date\": \"2023-03-24T00:51:37+00:00\", \"description\": \"Siavash test upload; this should be gone\", \"experiments\": [{\"name\": \"main\", \"resource\": {\"path\": \"experiment-1/experiment.json\", \"type\": \"local\"}}, {\"name\": \"new\", \"resource\": {\"path\": \"experiment-2/experiment.json\", \"type\": \"local\"}}], \"sample_mapping\": {\"resource\": {\"path\": \"sample_mapping.csv.gz\", \"type\": \"local\"}}, \"title\": \"Siavash test upload\"}, \"is_child\": false, \"path\": \"dataset.json\", \"$schema\": \"dataset/v2.json\"}',\n",
       "  'paths': ['dataset.json',\n",
       "   'column_data/data_frame.csv.gz',\n",
       "   'sample_mapping.csv.gz'],\n",
       "  'column_data':                                  samples\n",
       "  unknown_sample_new    unknown_sample_new\n",
       "  unknown_sample_main  unknown_sample_main,\n",
       "  'sample_mapping':       assay              primary                                    colname\n",
       "  0       new   unknown_sample_new  SAM24424070_Replicate1-AAACCCAAGACGTCGA-1\n",
       "  1       new   unknown_sample_new  SAM24424070_Replicate1-AAACCCAAGAGATTCA-1\n",
       "  2       new   unknown_sample_new  SAM24424070_Replicate1-AAACCCAAGCCAGACA-1\n",
       "  3       new   unknown_sample_new  SAM24424070_Replicate1-AAACCCAAGCGATGCA-1\n",
       "  4       new   unknown_sample_new  SAM24424070_Replicate1-AAACCCAAGGATATGT-1\n",
       "  ...     ...                  ...                                        ...\n",
       "  37066  main  unknown_sample_main  SAM24424071_Replicate1-TTTGTTGTCGCCGAAC-1\n",
       "  37067  main  unknown_sample_main  SAM24424071_Replicate1-TTTGTTGTCGCGAAGA-1\n",
       "  37068  main  unknown_sample_main  SAM24424071_Replicate1-TTTGTTGTCGCTGTCT-1\n",
       "  37069  main  unknown_sample_main  SAM24424071_Replicate1-TTTGTTGTCGTCACCT-1\n",
       "  37070  main  unknown_sample_main  SAM24424071_Replicate1-TTTGTTGTCTGGGTCG-1\n",
       "  \n",
       "  [74142 rows x 3 columns],\n",
       "  'exp_nums': {'main': 1, 'new': 2}}}"
      ]
     },
     "execution_count": 48,
     "metadata": {},
     "output_type": "execute_result"
    }
   ],
   "source": [
    "dss.metadata"
   ]
  },
  {
   "cell_type": "code",
   "execution_count": 49,
   "metadata": {},
   "outputs": [
    {
     "name": "stdout",
     "output_type": "stream",
     "text": [
      "\n",
      "        Class MultiAssayExperiment with 2 experiments and 2 samples\n",
      "            experiments: \n",
      "                [\"main: \\n        Class SingleCellExperiment with 36603 features and 37071 cells\\n          mainExperimentName: None\\n          assays: ['counts']\\n          features: Index(['ID', 'Symbol', 'Type', 'mt', 'ribo', 'n_cells_by_counts',\\n       'mean_counts', 'pct_dropout_by_counts', 'total_counts'],\\n      dtype='object')\\n          cell metadata: Index(['Sample', 'Barcode', 'n_genes_by_counts', 'total_counts',\\n       'total_counts_mt', 'pct_counts_mt', 'total_counts_ribo',\\n       'pct_counts_ribo'],\\n      dtype='object')\\n          reduced dimensions: []\\n          alternative experiments: ['crispr']\\n        \", \"new: \\n        Class SingleCellExperiment with 36603 features and 37071 cells\\n          mainExperimentName: None\\n          assays: ['counts', 'X']\\n          features: Index(['ID', 'Symbol', 'Type', 'mt', 'ribo', 'n_cells_by_counts',\\n       'mean_counts', 'pct_dropout_by_counts', 'total_counts'],\\n      dtype='object')\\n          cell metadata: Index(['Sample', 'Barcode', 'n_genes_by_counts', 'total_counts',\\n       'total_counts_mt', 'pct_counts_mt', 'total_counts_ribo',\\n       'pct_counts_ribo', 'pct_counts_gene'],\\n      dtype='object')\\n          reduced dimensions: []\\n          alternative experiments: None\\n        \"]\n",
      "        \n"
     ]
    }
   ],
   "source": [
    "print(dss)"
   ]
  },
  {
   "cell_type": "code",
   "execution_count": 50,
   "metadata": {},
   "outputs": [],
   "source": [
    "adata_2, adatas_2 = dss.experiments[\"main\"].toAnnData(alts=True)"
   ]
  },
  {
   "cell_type": "code",
   "execution_count": 51,
   "metadata": {},
   "outputs": [
    {
     "data": {
      "text/plain": [
       "AnnData object with n_obs × n_vars = 37071 × 36603\n",
       "    obs: 'Sample', 'Barcode', 'n_genes_by_counts', 'total_counts', 'total_counts_mt', 'pct_counts_mt', 'total_counts_ribo', 'pct_counts_ribo'\n",
       "    var: 'ID', 'Symbol', 'Type', 'mt', 'ribo', 'n_cells_by_counts', 'mean_counts', 'pct_dropout_by_counts', 'total_counts'\n",
       "    uns: '.internal'\n",
       "    layers: 'counts'"
      ]
     },
     "execution_count": 51,
     "metadata": {},
     "output_type": "execute_result"
    }
   ],
   "source": [
    "adata_2"
   ]
  },
  {
   "cell_type": "code",
   "execution_count": 52,
   "metadata": {},
   "outputs": [
    {
     "data": {
      "text/plain": [
       "{'crispr': AnnData object with n_obs × n_vars = 37071 × 21091\n",
       "     uns: '.internal'\n",
       "     layers: 'counts'}"
      ]
     },
     "execution_count": 52,
     "metadata": {},
     "output_type": "execute_result"
    }
   ],
   "source": [
    "adatas_2"
   ]
  },
  {
   "cell_type": "code",
   "execution_count": 53,
   "metadata": {},
   "outputs": [],
   "source": [
    "adata_3, adatas_3 = dss.experiments[\"new\"].toAnnData(alts=True)"
   ]
  },
  {
   "cell_type": "code",
   "execution_count": 54,
   "metadata": {},
   "outputs": [
    {
     "data": {
      "text/plain": [
       "AnnData object with n_obs × n_vars = 37071 × 36603\n",
       "    obs: 'Sample', 'Barcode', 'n_genes_by_counts', 'total_counts', 'total_counts_mt', 'pct_counts_mt', 'total_counts_ribo', 'pct_counts_ribo', 'pct_counts_gene'\n",
       "    var: 'ID', 'Symbol', 'Type', 'mt', 'ribo', 'n_cells_by_counts', 'mean_counts', 'pct_dropout_by_counts', 'total_counts'\n",
       "    uns: '.internal'\n",
       "    layers: 'counts', 'X'"
      ]
     },
     "execution_count": 54,
     "metadata": {},
     "output_type": "execute_result"
    }
   ],
   "source": [
    "adata_3"
   ]
  },
  {
   "cell_type": "code",
   "execution_count": 55,
   "metadata": {},
   "outputs": [],
   "source": [
    "adatas_3"
   ]
  }
 ],
 "metadata": {
  "kernelspec": {
   "display_name": "gpydev39",
   "language": "python",
   "name": "gpydev39"
  },
  "language_info": {
   "codemirror_mode": {
    "name": "ipython",
    "version": 3
   },
   "file_extension": ".py",
   "mimetype": "text/x-python",
   "name": "python",
   "nbconvert_exporter": "python",
   "pygments_lexer": "ipython3",
   "version": "3.9.15"
  },
  "widgets": {
   "application/vnd.jupyter.widget-state+json": {
    "state": {},
    "version_major": 2,
    "version_minor": 0
   }
  }
 },
 "nbformat": 4,
 "nbformat_minor": 4
}
